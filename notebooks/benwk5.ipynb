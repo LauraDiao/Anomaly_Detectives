{
 "cells": [
  {
   "cell_type": "code",
   "execution_count": 12,
   "metadata": {},
   "outputs": [],
   "source": [
    "import json, sys, os, glob, re\n",
    "from os import listdir\n",
    "\n",
    "import pandas as pd\n",
    "import numpy as np\n",
    "import matplotlib.pyplot as plt\n",
    "import seaborn as sns\n",
    "\n",
    "from sklearn.datasets import load_digits\n",
    "from sklearn.model_selection import learning_curve, ShuffleSplit, train_test_split\n",
    "from sklearn.decomposition import PCA\n",
    "from sklearn.tree import DecisionTreeRegressor\n",
    "from sklearn.ensemble import RandomForestRegressor, ExtraTreesRegressor\n",
    "from sklearn.metrics import mean_squared_error\n",
    "from sklearn.feature_selection import SelectKBest\n",
    "\n",
    "from sklearn.linear_model import LogisticRegression\n",
    "from sklearn.pipeline import Pipeline\n",
    "from sklearn.model_selection import GridSearchCV\n",
    "from sklearn.preprocessing import StandardScaler\n",
    "from sklearn.metrics import make_scorer\n",
    "\n",
    "import warnings\n",
    "warnings.filterwarnings(\"ignore\")"
   ]
  },
  {
   "cell_type": "code",
   "execution_count": 25,
   "metadata": {},
   "outputs": [
    {
     "name": "stdout",
     "output_type": "stream",
     "text": [
      "The autoreload extension is already loaded. To reload it, use:\n",
      "  %reload_ext autoreload\n"
     ]
    }
   ],
   "source": [
    "%load_ext autoreload\n",
    "%autoreload 2\n",
    "\n",
    "sys.path.insert(0, 'src')\n",
    "from helper import *\n",
    "from eda import *\n",
    "from train import *\n",
    "from etl import *"
   ]
  },
  {
   "cell_type": "code",
   "execution_count": 1,
   "metadata": {},
   "outputs": [
    {
     "ename": "NameError",
     "evalue": "name 'genfeat' is not defined",
     "output_type": "error",
     "traceback": [
      "\u001b[1;31m---------------------------------------------------------------------------\u001b[0m",
      "\u001b[1;31mNameError\u001b[0m                                 Traceback (most recent call last)",
      "\u001b[1;32m<ipython-input-1-5c95a60e439f>\u001b[0m in \u001b[0;36m<module>\u001b[1;34m\u001b[0m\n\u001b[0;32m      1\u001b[0m \u001b[1;31m# df = readfilerun_simple('data/raw/train_r/20220116T055105_20-100-true-20-100-iperf.csv')\u001b[0m\u001b[1;33m\u001b[0m\u001b[1;33m\u001b[0m\u001b[1;33m\u001b[0m\u001b[0m\n\u001b[0;32m      2\u001b[0m \u001b[1;31m# df = genfeat(readfilerun_simple('data/raw/switch/20220119T055428_300-500-true-300-5000-iperf.csv', 'data/raw/switch'))\u001b[0m\u001b[1;33m\u001b[0m\u001b[1;33m\u001b[0m\u001b[1;33m\u001b[0m\u001b[0m\n\u001b[1;32m----> 3\u001b[1;33m \u001b[0mdf\u001b[0m \u001b[1;33m=\u001b[0m \u001b[0mgenfeat\u001b[0m\u001b[1;33m(\u001b[0m\u001b[0mreadfilerun_simple\u001b[0m\u001b[1;33m(\u001b[0m\u001b[1;34m'data/jennawk5data/20220201T010740_200-100-true-200-10000-200-iperf.csv'\u001b[0m\u001b[1;33m,\u001b[0m \u001b[1;34m'data/jennawk5data'\u001b[0m\u001b[1;33m)\u001b[0m\u001b[1;33m)\u001b[0m\u001b[1;33m\u001b[0m\u001b[1;33m\u001b[0m\u001b[0m\n\u001b[0m\u001b[0;32m      4\u001b[0m \u001b[1;33m\u001b[0m\u001b[0m\n\u001b[0;32m      5\u001b[0m \u001b[1;31m# df10 = agg10(df)\u001b[0m\u001b[1;33m\u001b[0m\u001b[1;33m\u001b[0m\u001b[1;33m\u001b[0m\u001b[0m\n",
      "\u001b[1;31mNameError\u001b[0m: name 'genfeat' is not defined"
     ]
    }
   ],
   "source": [
    "# df = readfilerun_simple('data/raw/train_r/20220116T055105_20-100-true-20-100-iperf.csv')\n",
    "# df = genfeat(readfilerun_simple('data/raw/switch/20220119T055428_300-500-true-300-5000-iperf.csv', 'data/raw/switch'))\n",
    "df = genfeat(readfilerun_simple('data/jennawk5data/20220201T010740_200-100-true-200-10000-200-iperf.csv', 'data/jennawk5data'))\n",
    "\n",
    "# df10 = agg10(df)\n",
    "dfagg = better_agg(df)\n",
    "dfagg.head()"
   ]
  },
  {
   "cell_type": "code",
   "execution_count": 5,
   "metadata": {},
   "outputs": [
    {
     "data": {
      "text/plain": [
       "array(['drop', nan, 'drop;drop', 'drop;drop;drop'], dtype=object)"
      ]
     },
     "execution_count": 5,
     "metadata": {},
     "output_type": "execute_result"
    }
   ],
   "source": [
    "df['event'].unique()"
   ]
  },
  {
   "cell_type": "code",
   "execution_count": 6,
   "metadata": {},
   "outputs": [
    {
     "data": {
      "text/html": [
       "<div>\n",
       "<style scoped>\n",
       "    .dataframe tbody tr th:only-of-type {\n",
       "        vertical-align: middle;\n",
       "    }\n",
       "\n",
       "    .dataframe tbody tr th {\n",
       "        vertical-align: top;\n",
       "    }\n",
       "\n",
       "    .dataframe thead th {\n",
       "        text-align: right;\n",
       "    }\n",
       "</style>\n",
       "<table border=\"1\" class=\"dataframe\">\n",
       "  <thead>\n",
       "    <tr style=\"text-align: right;\">\n",
       "      <th></th>\n",
       "      <th>total_bytes</th>\n",
       "      <th>max_bytes</th>\n",
       "      <th>max_bytes_std</th>\n",
       "      <th>Proto</th>\n",
       "      <th>1-&gt;2Bytes</th>\n",
       "      <th>2-&gt;1Bytes</th>\n",
       "      <th>1-&gt;2Pkts</th>\n",
       "      <th>2-&gt;1Pkts</th>\n",
       "      <th>total_pkts</th>\n",
       "      <th>total_pkts_amin</th>\n",
       "      <th>...</th>\n",
       "      <th>mean_tdelta</th>\n",
       "      <th>mean_tdelta_amin</th>\n",
       "      <th>mean_tdelta_amax</th>\n",
       "      <th>max_tdelta</th>\n",
       "      <th>max_tdelta_amin</th>\n",
       "      <th>max_tdelta_amax</th>\n",
       "      <th>latency</th>\n",
       "      <th>loss</th>\n",
       "      <th>later_latency</th>\n",
       "      <th>later_loss</th>\n",
       "    </tr>\n",
       "  </thead>\n",
       "  <tbody>\n",
       "    <tr>\n",
       "      <th>0</th>\n",
       "      <td>1254903.6</td>\n",
       "      <td>16261.6</td>\n",
       "      <td>4620.980252</td>\n",
       "      <td>6</td>\n",
       "      <td>1231800.0</td>\n",
       "      <td>23103.6</td>\n",
       "      <td>821.2</td>\n",
       "      <td>437.1</td>\n",
       "      <td>1258.3</td>\n",
       "      <td>784</td>\n",
       "      <td>...</td>\n",
       "      <td>0.764622</td>\n",
       "      <td>0.431958</td>\n",
       "      <td>1.233716</td>\n",
       "      <td>85.7</td>\n",
       "      <td>34</td>\n",
       "      <td>168</td>\n",
       "      <td>20</td>\n",
       "      <td>2000</td>\n",
       "      <td>20</td>\n",
       "      <td>2000</td>\n",
       "    </tr>\n",
       "    <tr>\n",
       "      <th>1</th>\n",
       "      <td>1725598.8</td>\n",
       "      <td>18534.0</td>\n",
       "      <td>9597.535841</td>\n",
       "      <td>6</td>\n",
       "      <td>1697400.0</td>\n",
       "      <td>28198.8</td>\n",
       "      <td>1131.6</td>\n",
       "      <td>539.7</td>\n",
       "      <td>1671.3</td>\n",
       "      <td>1440</td>\n",
       "      <td>...</td>\n",
       "      <td>0.599958</td>\n",
       "      <td>0.473884</td>\n",
       "      <td>0.694232</td>\n",
       "      <td>26.6</td>\n",
       "      <td>9</td>\n",
       "      <td>58</td>\n",
       "      <td>20</td>\n",
       "      <td>2000</td>\n",
       "      <td>20</td>\n",
       "      <td>2000</td>\n",
       "    </tr>\n",
       "    <tr>\n",
       "      <th>2</th>\n",
       "      <td>2036649.6</td>\n",
       "      <td>15224.8</td>\n",
       "      <td>2460.232184</td>\n",
       "      <td>6</td>\n",
       "      <td>2003550.0</td>\n",
       "      <td>33099.6</td>\n",
       "      <td>1335.7</td>\n",
       "      <td>633.0</td>\n",
       "      <td>1968.7</td>\n",
       "      <td>1695</td>\n",
       "      <td>...</td>\n",
       "      <td>0.511561</td>\n",
       "      <td>0.438133</td>\n",
       "      <td>0.586777</td>\n",
       "      <td>17.5</td>\n",
       "      <td>9</td>\n",
       "      <td>29</td>\n",
       "      <td>20</td>\n",
       "      <td>2000</td>\n",
       "      <td>20</td>\n",
       "      <td>2000</td>\n",
       "    </tr>\n",
       "    <tr>\n",
       "      <th>3</th>\n",
       "      <td>1773897.6</td>\n",
       "      <td>12337.2</td>\n",
       "      <td>1822.065299</td>\n",
       "      <td>6</td>\n",
       "      <td>1744500.0</td>\n",
       "      <td>29397.6</td>\n",
       "      <td>1163.0</td>\n",
       "      <td>561.6</td>\n",
       "      <td>1724.6</td>\n",
       "      <td>1512</td>\n",
       "      <td>...</td>\n",
       "      <td>0.580953</td>\n",
       "      <td>0.511329</td>\n",
       "      <td>0.660490</td>\n",
       "      <td>12.5</td>\n",
       "      <td>8</td>\n",
       "      <td>19</td>\n",
       "      <td>20</td>\n",
       "      <td>2000</td>\n",
       "      <td>20</td>\n",
       "      <td>2000</td>\n",
       "    </tr>\n",
       "    <tr>\n",
       "      <th>4</th>\n",
       "      <td>1809538.4</td>\n",
       "      <td>14474.4</td>\n",
       "      <td>2964.950335</td>\n",
       "      <td>6</td>\n",
       "      <td>1780200.0</td>\n",
       "      <td>29338.4</td>\n",
       "      <td>1186.8</td>\n",
       "      <td>561.2</td>\n",
       "      <td>1748.0</td>\n",
       "      <td>1485</td>\n",
       "      <td>...</td>\n",
       "      <td>0.575136</td>\n",
       "      <td>0.476533</td>\n",
       "      <td>0.673181</td>\n",
       "      <td>11.6</td>\n",
       "      <td>9</td>\n",
       "      <td>14</td>\n",
       "      <td>20</td>\n",
       "      <td>2000</td>\n",
       "      <td>20</td>\n",
       "      <td>2000</td>\n",
       "    </tr>\n",
       "  </tbody>\n",
       "</table>\n",
       "<p>5 rows × 32 columns</p>\n",
       "</div>"
      ],
      "text/plain": [
       "   total_bytes  max_bytes  max_bytes_std  Proto  1->2Bytes  2->1Bytes  \\\n",
       "0    1254903.6    16261.6    4620.980252      6  1231800.0    23103.6   \n",
       "1    1725598.8    18534.0    9597.535841      6  1697400.0    28198.8   \n",
       "2    2036649.6    15224.8    2460.232184      6  2003550.0    33099.6   \n",
       "3    1773897.6    12337.2    1822.065299      6  1744500.0    29397.6   \n",
       "4    1809538.4    14474.4    2964.950335      6  1780200.0    29338.4   \n",
       "\n",
       "   1->2Pkts  2->1Pkts  total_pkts  total_pkts_amin  ...  mean_tdelta  \\\n",
       "0     821.2     437.1      1258.3              784  ...     0.764622   \n",
       "1    1131.6     539.7      1671.3             1440  ...     0.599958   \n",
       "2    1335.7     633.0      1968.7             1695  ...     0.511561   \n",
       "3    1163.0     561.6      1724.6             1512  ...     0.580953   \n",
       "4    1186.8     561.2      1748.0             1485  ...     0.575136   \n",
       "\n",
       "   mean_tdelta_amin  mean_tdelta_amax  max_tdelta  max_tdelta_amin  \\\n",
       "0          0.431958          1.233716        85.7               34   \n",
       "1          0.473884          0.694232        26.6                9   \n",
       "2          0.438133          0.586777        17.5                9   \n",
       "3          0.511329          0.660490        12.5                8   \n",
       "4          0.476533          0.673181        11.6                9   \n",
       "\n",
       "   max_tdelta_amax  latency  loss  later_latency  later_loss  \n",
       "0              168       20  2000             20        2000  \n",
       "1               58       20  2000             20        2000  \n",
       "2               29       20  2000             20        2000  \n",
       "3               19       20  2000             20        2000  \n",
       "4               14       20  2000             20        2000  \n",
       "\n",
       "[5 rows x 32 columns]"
      ]
     },
     "execution_count": 6,
     "metadata": {},
     "output_type": "execute_result"
    }
   ],
   "source": [
    "ct = pd.read_csv('outputs/combined_transform.csv').rename(\n",
    "    {'mean_tdelta.1': 'mean_tdelta_amin', 'mean_tdelta.2':'mean_tdelta_amax'}, \n",
    "    axis=1)\n",
    "ct.head()"
   ]
  },
  {
   "cell_type": "code",
   "execution_count": 7,
   "metadata": {},
   "outputs": [
    {
     "data": {
      "text/plain": [
       "Index(['total_bytes', 'max_bytes', 'max_bytes_std', 'Proto', '1->2Bytes',\n",
       "       '2->1Bytes', '1->2Pkts', '2->1Pkts', 'total_pkts', 'total_pkts_amin',\n",
       "       'total_pkts_amax', 'number_ms', 'pkt_ratio', 'time_spread',\n",
       "       'time_spread_amin', 'time_spread_amax', 'pkt sum', 'longest_seq',\n",
       "       'longest_seq_amin', 'longest_seq_amax', 'total_pkt_sizes', 'byte_ratio',\n",
       "       'mean_tdelta', 'mean_tdelta_amin', 'mean_tdelta_amax', 'max_tdelta',\n",
       "       'max_tdelta_amin', 'max_tdelta_amax', 'latency', 'loss',\n",
       "       'later_latency', 'later_loss'],\n",
       "      dtype='object')"
      ]
     },
     "execution_count": 7,
     "metadata": {},
     "output_type": "execute_result"
    }
   ],
   "source": [
    "ct.columns"
   ]
  },
  {
   "cell_type": "code",
   "execution_count": 8,
   "metadata": {},
   "outputs": [
    {
     "name": "stdout",
     "output_type": "stream",
     "text": [
      "mse: 15149936.539837424, r2: 0.6519934955254453\n"
     ]
    },
    {
     "data": {
      "text/plain": [
       "2->1Bytes          0.559126\n",
       "max_tdelta         0.143071\n",
       "mean_tdelta        0.101740\n",
       "number_ms          0.079518\n",
       "total_pkts         0.060071\n",
       "total_pkt_sizes    0.056474\n",
       "dtype: float64"
      ]
     },
     "execution_count": 8,
     "metadata": {},
     "output_type": "execute_result"
    }
   ],
   "source": [
    "label_col = 'loss'\n",
    "# indexcol = ['total_bytes', 'max_bytes', '2->1Bytes', '2->1Pkts', 'total_pkts',\n",
    "#        'number_ms', 'pkt_ratio', 'time_spread', 'pkt sum', 'longest_seq',\n",
    "#        'total_pkt_sizes', 'byte_ratio', 'mean_tdelta', 'max_tdelta']\n",
    "# indexcol = ['total_bytes', 'max_bytes', 'max_bytes_std',\n",
    "#        '2->1Bytes', '2->1Pkts', 'total_pkts', 'total_pkts_amin',\n",
    "#        'total_pkts_amax', 'number_ms', 'pkt_ratio', 'time_spread',\n",
    "#        'time_spread_amin', 'time_spread_amax', 'pkt sum', 'longest_seq',\n",
    "#        'longest_seq_amin', 'longest_seq_amax', 'total_pkt_sizes', 'byte_ratio',\n",
    "#        'mean_tdelta', 'mean_tdelta_amin', 'mean_tdelta_amax', 'max_tdelta',\n",
    "#        'max_tdelta_amin', 'max_tdelta_amax']\n",
    "# latency features\n",
    "indexcol = ['byte_ratio', 'pkt_ratio', 'time_spread', 'total_bytes', '2->1Pkts']\n",
    "# loss features\n",
    "indexcol = ['total_pkts', 'total_pkt_sizes', '2->1Bytes', 'number_ms', 'mean_tdelta', 'max_tdelta'] \n",
    "    \n",
    "# print(len(indexcol),df[[x for x in indexcol if x in df.columns]])\n",
    "\n",
    "X_train, X_test, y_train, y_test = train_test_split(\n",
    "    ct[[x for x in indexcol if x in df.columns]], ct[label_col])\n",
    "# print(X_train.shape, X_test.shape, y_train.shape, y_test.shape)\n",
    "etree = RandomForestRegressor(n_estimators=400, n_jobs=4)\n",
    "etreeft = etree.fit(X_train,y_train)\n",
    "\n",
    "y_pred3 = etree.predict(X_test)\n",
    "acc3= mean_squared_error(y_test, y_pred3)\n",
    "\n",
    "print(f'mse: {acc3}, r2: {etree.score(X_test, y_test)}')\n",
    "feat_imp = pd.Series(index=[x for x in indexcol if x in df.columns], \n",
    "          data=etree.feature_importances_).sort_values(ascending=False)\n",
    "feat_imp"
   ]
  },
  {
   "cell_type": "code",
   "execution_count": 9,
   "metadata": {},
   "outputs": [
    {
     "data": {
      "text/plain": [
       "0       1688\n",
       "1       2107\n",
       "2       2272\n",
       "3       1943\n",
       "4       2089\n",
       "        ... \n",
       "7898    1533\n",
       "7899    1452\n",
       "7900    2187\n",
       "7901    1871\n",
       "7902    1354\n",
       "Name: total_pkts_amax, Length: 7903, dtype: int64"
      ]
     },
     "execution_count": 9,
     "metadata": {},
     "output_type": "execute_result"
    }
   ],
   "source": [
    "ct['total_pkts_amax']"
   ]
  },
  {
   "cell_type": "code",
   "execution_count": null,
   "metadata": {},
   "outputs": [
    {
     "data": {
      "text/html": [
       "<div>\n",
       "<style scoped>\n",
       "    .dataframe tbody tr th:only-of-type {\n",
       "        vertical-align: middle;\n",
       "    }\n",
       "\n",
       "    .dataframe tbody tr th {\n",
       "        vertical-align: top;\n",
       "    }\n",
       "\n",
       "    .dataframe thead th {\n",
       "        text-align: right;\n",
       "    }\n",
       "</style>\n",
       "<table border=\"1\" class=\"dataframe\">\n",
       "  <thead>\n",
       "    <tr style=\"text-align: right;\">\n",
       "      <th></th>\n",
       "      <th>total_pkts_amax</th>\n",
       "      <th>total_pkts</th>\n",
       "    </tr>\n",
       "  </thead>\n",
       "  <tbody>\n",
       "    <tr>\n",
       "      <th>total_pkts_amax</th>\n",
       "      <td>1.000000</td>\n",
       "      <td>0.941817</td>\n",
       "    </tr>\n",
       "    <tr>\n",
       "      <th>total_pkts</th>\n",
       "      <td>0.941817</td>\n",
       "      <td>1.000000</td>\n",
       "    </tr>\n",
       "  </tbody>\n",
       "</table>\n",
       "</div>"
      ],
      "text/plain": [
       "                 total_pkts_amax  total_pkts\n",
       "total_pkts_amax         1.000000    0.941817\n",
       "total_pkts              0.941817    1.000000"
      ]
     },
     "execution_count": 109,
     "metadata": {},
     "output_type": "execute_result"
    }
   ],
   "source": [
    "ct[['total_pkts_amax', 'total_pkts']].corr()"
   ]
  },
  {
   "cell_type": "code",
   "execution_count": 11,
   "metadata": {},
   "outputs": [
    {
     "data": {
      "text/html": [
       "<div>\n",
       "<style scoped>\n",
       "    .dataframe tbody tr th:only-of-type {\n",
       "        vertical-align: middle;\n",
       "    }\n",
       "\n",
       "    .dataframe tbody tr th {\n",
       "        vertical-align: top;\n",
       "    }\n",
       "\n",
       "    .dataframe thead th {\n",
       "        text-align: right;\n",
       "    }\n",
       "</style>\n",
       "<table border=\"1\" class=\"dataframe\">\n",
       "  <thead>\n",
       "    <tr style=\"text-align: right;\">\n",
       "      <th></th>\n",
       "      <th>Time</th>\n",
       "      <th>IP1</th>\n",
       "      <th>Port1</th>\n",
       "      <th>IP2</th>\n",
       "      <th>Port2</th>\n",
       "      <th>Proto</th>\n",
       "      <th>1-&gt;2Bytes</th>\n",
       "      <th>2-&gt;1Bytes</th>\n",
       "      <th>1-&gt;2Pkts</th>\n",
       "      <th>2-&gt;1Pkts</th>\n",
       "      <th>...</th>\n",
       "      <th>pkt sum</th>\n",
       "      <th>longest_seq</th>\n",
       "      <th>mean_tdelta</th>\n",
       "      <th>max_tdelta</th>\n",
       "      <th>number_ms</th>\n",
       "      <th>max_bytes</th>\n",
       "      <th>total_pkt_sizes</th>\n",
       "      <th>pkt_ratio</th>\n",
       "      <th>time_spread</th>\n",
       "      <th>byte_ratio</th>\n",
       "    </tr>\n",
       "  </thead>\n",
       "  <tbody>\n",
       "    <tr>\n",
       "      <th>0</th>\n",
       "      <td>1643677660</td>\n",
       "      <td>192.168.96.3</td>\n",
       "      <td>47330</td>\n",
       "      <td>192.168.48.2</td>\n",
       "      <td>5001</td>\n",
       "      <td>6</td>\n",
       "      <td>13664</td>\n",
       "      <td>60</td>\n",
       "      <td>11</td>\n",
       "      <td>1</td>\n",
       "      <td>...</td>\n",
       "      <td>13724</td>\n",
       "      <td>11</td>\n",
       "      <td>0.000000</td>\n",
       "      <td>0</td>\n",
       "      <td>1</td>\n",
       "      <td>13724</td>\n",
       "      <td>13724</td>\n",
       "      <td>1143.666667</td>\n",
       "      <td>0</td>\n",
       "      <td>1143.666667</td>\n",
       "    </tr>\n",
       "    <tr>\n",
       "      <th>1</th>\n",
       "      <td>1643677661</td>\n",
       "      <td>192.168.96.3</td>\n",
       "      <td>47330</td>\n",
       "      <td>192.168.48.2</td>\n",
       "      <td>5001</td>\n",
       "      <td>6</td>\n",
       "      <td>51000</td>\n",
       "      <td>1520</td>\n",
       "      <td>34</td>\n",
       "      <td>26</td>\n",
       "      <td>...</td>\n",
       "      <td>52520</td>\n",
       "      <td>3</td>\n",
       "      <td>13.694915</td>\n",
       "      <td>402</td>\n",
       "      <td>8</td>\n",
       "      <td>12284</td>\n",
       "      <td>52520</td>\n",
       "      <td>875.333333</td>\n",
       "      <td>808</td>\n",
       "      <td>875.333333</td>\n",
       "    </tr>\n",
       "    <tr>\n",
       "      <th>2</th>\n",
       "      <td>1643677662</td>\n",
       "      <td>192.168.96.3</td>\n",
       "      <td>47330</td>\n",
       "      <td>192.168.48.2</td>\n",
       "      <td>5001</td>\n",
       "      <td>6</td>\n",
       "      <td>42000</td>\n",
       "      <td>1456</td>\n",
       "      <td>28</td>\n",
       "      <td>28</td>\n",
       "      <td>...</td>\n",
       "      <td>43456</td>\n",
       "      <td>2</td>\n",
       "      <td>7.400000</td>\n",
       "      <td>399</td>\n",
       "      <td>9</td>\n",
       "      <td>10916</td>\n",
       "      <td>43456</td>\n",
       "      <td>776.000000</td>\n",
       "      <td>407</td>\n",
       "      <td>776.000000</td>\n",
       "    </tr>\n",
       "    <tr>\n",
       "      <th>3</th>\n",
       "      <td>1643677663</td>\n",
       "      <td>192.168.96.3</td>\n",
       "      <td>47330</td>\n",
       "      <td>192.168.48.2</td>\n",
       "      <td>5001</td>\n",
       "      <td>6</td>\n",
       "      <td>63000</td>\n",
       "      <td>1196</td>\n",
       "      <td>42</td>\n",
       "      <td>23</td>\n",
       "      <td>...</td>\n",
       "      <td>64196</td>\n",
       "      <td>3</td>\n",
       "      <td>12.656250</td>\n",
       "      <td>400</td>\n",
       "      <td>11</td>\n",
       "      <td>9156</td>\n",
       "      <td>64196</td>\n",
       "      <td>987.630769</td>\n",
       "      <td>810</td>\n",
       "      <td>987.630769</td>\n",
       "    </tr>\n",
       "    <tr>\n",
       "      <th>4</th>\n",
       "      <td>1643677664</td>\n",
       "      <td>192.168.96.3</td>\n",
       "      <td>47330</td>\n",
       "      <td>192.168.48.2</td>\n",
       "      <td>5001</td>\n",
       "      <td>6</td>\n",
       "      <td>42000</td>\n",
       "      <td>728</td>\n",
       "      <td>28</td>\n",
       "      <td>14</td>\n",
       "      <td>...</td>\n",
       "      <td>42728</td>\n",
       "      <td>2</td>\n",
       "      <td>9.878049</td>\n",
       "      <td>399</td>\n",
       "      <td>7</td>\n",
       "      <td>15260</td>\n",
       "      <td>42728</td>\n",
       "      <td>1017.333333</td>\n",
       "      <td>405</td>\n",
       "      <td>1017.333333</td>\n",
       "    </tr>\n",
       "    <tr>\n",
       "      <th>...</th>\n",
       "      <td>...</td>\n",
       "      <td>...</td>\n",
       "      <td>...</td>\n",
       "      <td>...</td>\n",
       "      <td>...</td>\n",
       "      <td>...</td>\n",
       "      <td>...</td>\n",
       "      <td>...</td>\n",
       "      <td>...</td>\n",
       "      <td>...</td>\n",
       "      <td>...</td>\n",
       "      <td>...</td>\n",
       "      <td>...</td>\n",
       "      <td>...</td>\n",
       "      <td>...</td>\n",
       "      <td>...</td>\n",
       "      <td>...</td>\n",
       "      <td>...</td>\n",
       "      <td>...</td>\n",
       "      <td>...</td>\n",
       "      <td>...</td>\n",
       "    </tr>\n",
       "    <tr>\n",
       "      <th>297</th>\n",
       "      <td>1643677957</td>\n",
       "      <td>192.168.96.3</td>\n",
       "      <td>47330</td>\n",
       "      <td>192.168.48.2</td>\n",
       "      <td>5001</td>\n",
       "      <td>6</td>\n",
       "      <td>1807500</td>\n",
       "      <td>24232</td>\n",
       "      <td>1205</td>\n",
       "      <td>466</td>\n",
       "      <td>...</td>\n",
       "      <td>1831732</td>\n",
       "      <td>10</td>\n",
       "      <td>0.583234</td>\n",
       "      <td>33</td>\n",
       "      <td>243</td>\n",
       "      <td>27312</td>\n",
       "      <td>1831732</td>\n",
       "      <td>1096.189108</td>\n",
       "      <td>974</td>\n",
       "      <td>1096.189108</td>\n",
       "    </tr>\n",
       "    <tr>\n",
       "      <th>298</th>\n",
       "      <td>1643677958</td>\n",
       "      <td>192.168.96.3</td>\n",
       "      <td>47330</td>\n",
       "      <td>192.168.48.2</td>\n",
       "      <td>5001</td>\n",
       "      <td>6</td>\n",
       "      <td>1576500</td>\n",
       "      <td>21788</td>\n",
       "      <td>1051</td>\n",
       "      <td>419</td>\n",
       "      <td>...</td>\n",
       "      <td>1598288</td>\n",
       "      <td>7</td>\n",
       "      <td>0.675970</td>\n",
       "      <td>36</td>\n",
       "      <td>199</td>\n",
       "      <td>27312</td>\n",
       "      <td>1598288</td>\n",
       "      <td>1087.270748</td>\n",
       "      <td>993</td>\n",
       "      <td>1087.270748</td>\n",
       "    </tr>\n",
       "    <tr>\n",
       "      <th>299</th>\n",
       "      <td>1643677959</td>\n",
       "      <td>192.168.96.3</td>\n",
       "      <td>47330</td>\n",
       "      <td>192.168.48.2</td>\n",
       "      <td>5001</td>\n",
       "      <td>6</td>\n",
       "      <td>2160000</td>\n",
       "      <td>29224</td>\n",
       "      <td>1440</td>\n",
       "      <td>562</td>\n",
       "      <td>...</td>\n",
       "      <td>2189224</td>\n",
       "      <td>8</td>\n",
       "      <td>0.493253</td>\n",
       "      <td>34</td>\n",
       "      <td>223</td>\n",
       "      <td>27364</td>\n",
       "      <td>2189224</td>\n",
       "      <td>1093.518482</td>\n",
       "      <td>987</td>\n",
       "      <td>1093.518482</td>\n",
       "    </tr>\n",
       "    <tr>\n",
       "      <th>300</th>\n",
       "      <td>1643677960</td>\n",
       "      <td>192.168.96.3</td>\n",
       "      <td>47330</td>\n",
       "      <td>192.168.48.2</td>\n",
       "      <td>5001</td>\n",
       "      <td>6</td>\n",
       "      <td>1881000</td>\n",
       "      <td>26884</td>\n",
       "      <td>1254</td>\n",
       "      <td>517</td>\n",
       "      <td>...</td>\n",
       "      <td>1907884</td>\n",
       "      <td>8</td>\n",
       "      <td>0.554802</td>\n",
       "      <td>35</td>\n",
       "      <td>210</td>\n",
       "      <td>27416</td>\n",
       "      <td>1907884</td>\n",
       "      <td>1077.291925</td>\n",
       "      <td>982</td>\n",
       "      <td>1077.291925</td>\n",
       "    </tr>\n",
       "    <tr>\n",
       "      <th>301</th>\n",
       "      <td>1643677961</td>\n",
       "      <td>192.168.96.3</td>\n",
       "      <td>47330</td>\n",
       "      <td>192.168.48.2</td>\n",
       "      <td>5001</td>\n",
       "      <td>6</td>\n",
       "      <td>1954140</td>\n",
       "      <td>39260</td>\n",
       "      <td>1303</td>\n",
       "      <td>755</td>\n",
       "      <td>...</td>\n",
       "      <td>1993400</td>\n",
       "      <td>219</td>\n",
       "      <td>0.485173</td>\n",
       "      <td>36</td>\n",
       "      <td>292</td>\n",
       "      <td>24364</td>\n",
       "      <td>1993400</td>\n",
       "      <td>968.610301</td>\n",
       "      <td>998</td>\n",
       "      <td>968.610301</td>\n",
       "    </tr>\n",
       "  </tbody>\n",
       "</table>\n",
       "<p>302 rows × 32 columns</p>\n",
       "</div>"
      ],
      "text/plain": [
       "           Time           IP1  Port1           IP2  Port2  Proto  1->2Bytes  \\\n",
       "0    1643677660  192.168.96.3  47330  192.168.48.2   5001      6      13664   \n",
       "1    1643677661  192.168.96.3  47330  192.168.48.2   5001      6      51000   \n",
       "2    1643677662  192.168.96.3  47330  192.168.48.2   5001      6      42000   \n",
       "3    1643677663  192.168.96.3  47330  192.168.48.2   5001      6      63000   \n",
       "4    1643677664  192.168.96.3  47330  192.168.48.2   5001      6      42000   \n",
       "..          ...           ...    ...           ...    ...    ...        ...   \n",
       "297  1643677957  192.168.96.3  47330  192.168.48.2   5001      6    1807500   \n",
       "298  1643677958  192.168.96.3  47330  192.168.48.2   5001      6    1576500   \n",
       "299  1643677959  192.168.96.3  47330  192.168.48.2   5001      6    2160000   \n",
       "300  1643677960  192.168.96.3  47330  192.168.48.2   5001      6    1881000   \n",
       "301  1643677961  192.168.96.3  47330  192.168.48.2   5001      6    1954140   \n",
       "\n",
       "     2->1Bytes  1->2Pkts  2->1Pkts  ...  pkt sum longest_seq mean_tdelta  \\\n",
       "0           60        11         1  ...    13724          11    0.000000   \n",
       "1         1520        34        26  ...    52520           3   13.694915   \n",
       "2         1456        28        28  ...    43456           2    7.400000   \n",
       "3         1196        42        23  ...    64196           3   12.656250   \n",
       "4          728        28        14  ...    42728           2    9.878049   \n",
       "..         ...       ...       ...  ...      ...         ...         ...   \n",
       "297      24232      1205       466  ...  1831732          10    0.583234   \n",
       "298      21788      1051       419  ...  1598288           7    0.675970   \n",
       "299      29224      1440       562  ...  2189224           8    0.493253   \n",
       "300      26884      1254       517  ...  1907884           8    0.554802   \n",
       "301      39260      1303       755  ...  1993400         219    0.485173   \n",
       "\n",
       "    max_tdelta number_ms  max_bytes  total_pkt_sizes    pkt_ratio  \\\n",
       "0            0         1      13724            13724  1143.666667   \n",
       "1          402         8      12284            52520   875.333333   \n",
       "2          399         9      10916            43456   776.000000   \n",
       "3          400        11       9156            64196   987.630769   \n",
       "4          399         7      15260            42728  1017.333333   \n",
       "..         ...       ...        ...              ...          ...   \n",
       "297         33       243      27312          1831732  1096.189108   \n",
       "298         36       199      27312          1598288  1087.270748   \n",
       "299         34       223      27364          2189224  1093.518482   \n",
       "300         35       210      27416          1907884  1077.291925   \n",
       "301         36       292      24364          1993400   968.610301   \n",
       "\n",
       "     time_spread   byte_ratio  \n",
       "0              0  1143.666667  \n",
       "1            808   875.333333  \n",
       "2            407   776.000000  \n",
       "3            810   987.630769  \n",
       "4            405  1017.333333  \n",
       "..           ...          ...  \n",
       "297          974  1096.189108  \n",
       "298          993  1087.270748  \n",
       "299          987  1093.518482  \n",
       "300          982  1077.291925  \n",
       "301          998   968.610301  \n",
       "\n",
       "[302 rows x 32 columns]"
      ]
     },
     "execution_count": 11,
     "metadata": {},
     "output_type": "execute_result"
    }
   ],
   "source": [
    "dfr = df.reset_index(drop=True)\n",
    "dfr"
   ]
  },
  {
   "cell_type": "code",
   "execution_count": 12,
   "metadata": {},
   "outputs": [
    {
     "data": {
      "text/html": [
       "<div>\n",
       "<style scoped>\n",
       "    .dataframe tbody tr th:only-of-type {\n",
       "        vertical-align: middle;\n",
       "    }\n",
       "\n",
       "    .dataframe tbody tr th {\n",
       "        vertical-align: top;\n",
       "    }\n",
       "\n",
       "    .dataframe thead th {\n",
       "        text-align: right;\n",
       "    }\n",
       "</style>\n",
       "<table border=\"1\" class=\"dataframe\">\n",
       "  <thead>\n",
       "    <tr style=\"text-align: right;\">\n",
       "      <th></th>\n",
       "      <th>Time</th>\n",
       "      <th>IP1</th>\n",
       "      <th>Port1</th>\n",
       "      <th>IP2</th>\n",
       "      <th>Port2</th>\n",
       "      <th>Proto</th>\n",
       "      <th>1-&gt;2Bytes</th>\n",
       "      <th>2-&gt;1Bytes</th>\n",
       "      <th>1-&gt;2Pkts</th>\n",
       "      <th>2-&gt;1Pkts</th>\n",
       "      <th>...</th>\n",
       "      <th>longest_seq</th>\n",
       "      <th>mean_tdelta</th>\n",
       "      <th>max_tdelta</th>\n",
       "      <th>number_ms</th>\n",
       "      <th>max_bytes</th>\n",
       "      <th>total_pkt_sizes</th>\n",
       "      <th>pkt_ratio</th>\n",
       "      <th>time_spread</th>\n",
       "      <th>byte_ratio</th>\n",
       "      <th>prediction</th>\n",
       "    </tr>\n",
       "  </thead>\n",
       "  <tbody>\n",
       "    <tr>\n",
       "      <th>0</th>\n",
       "      <td>1643677660</td>\n",
       "      <td>192.168.96.3</td>\n",
       "      <td>47330</td>\n",
       "      <td>192.168.48.2</td>\n",
       "      <td>5001</td>\n",
       "      <td>6</td>\n",
       "      <td>13664</td>\n",
       "      <td>60</td>\n",
       "      <td>11</td>\n",
       "      <td>1</td>\n",
       "      <td>...</td>\n",
       "      <td>11</td>\n",
       "      <td>0.000000</td>\n",
       "      <td>0</td>\n",
       "      <td>1</td>\n",
       "      <td>13724</td>\n",
       "      <td>13724</td>\n",
       "      <td>1143.666667</td>\n",
       "      <td>0</td>\n",
       "      <td>1143.666667</td>\n",
       "      <td>103.75</td>\n",
       "    </tr>\n",
       "    <tr>\n",
       "      <th>1</th>\n",
       "      <td>1643677661</td>\n",
       "      <td>192.168.96.3</td>\n",
       "      <td>47330</td>\n",
       "      <td>192.168.48.2</td>\n",
       "      <td>5001</td>\n",
       "      <td>6</td>\n",
       "      <td>51000</td>\n",
       "      <td>1520</td>\n",
       "      <td>34</td>\n",
       "      <td>26</td>\n",
       "      <td>...</td>\n",
       "      <td>3</td>\n",
       "      <td>13.694915</td>\n",
       "      <td>402</td>\n",
       "      <td>8</td>\n",
       "      <td>12284</td>\n",
       "      <td>52520</td>\n",
       "      <td>875.333333</td>\n",
       "      <td>808</td>\n",
       "      <td>875.333333</td>\n",
       "      <td>103.75</td>\n",
       "    </tr>\n",
       "    <tr>\n",
       "      <th>2</th>\n",
       "      <td>1643677662</td>\n",
       "      <td>192.168.96.3</td>\n",
       "      <td>47330</td>\n",
       "      <td>192.168.48.2</td>\n",
       "      <td>5001</td>\n",
       "      <td>6</td>\n",
       "      <td>42000</td>\n",
       "      <td>1456</td>\n",
       "      <td>28</td>\n",
       "      <td>28</td>\n",
       "      <td>...</td>\n",
       "      <td>2</td>\n",
       "      <td>7.400000</td>\n",
       "      <td>399</td>\n",
       "      <td>9</td>\n",
       "      <td>10916</td>\n",
       "      <td>43456</td>\n",
       "      <td>776.000000</td>\n",
       "      <td>407</td>\n",
       "      <td>776.000000</td>\n",
       "      <td>103.75</td>\n",
       "    </tr>\n",
       "    <tr>\n",
       "      <th>3</th>\n",
       "      <td>1643677663</td>\n",
       "      <td>192.168.96.3</td>\n",
       "      <td>47330</td>\n",
       "      <td>192.168.48.2</td>\n",
       "      <td>5001</td>\n",
       "      <td>6</td>\n",
       "      <td>63000</td>\n",
       "      <td>1196</td>\n",
       "      <td>42</td>\n",
       "      <td>23</td>\n",
       "      <td>...</td>\n",
       "      <td>3</td>\n",
       "      <td>12.656250</td>\n",
       "      <td>400</td>\n",
       "      <td>11</td>\n",
       "      <td>9156</td>\n",
       "      <td>64196</td>\n",
       "      <td>987.630769</td>\n",
       "      <td>810</td>\n",
       "      <td>987.630769</td>\n",
       "      <td>103.75</td>\n",
       "    </tr>\n",
       "    <tr>\n",
       "      <th>4</th>\n",
       "      <td>1643677664</td>\n",
       "      <td>192.168.96.3</td>\n",
       "      <td>47330</td>\n",
       "      <td>192.168.48.2</td>\n",
       "      <td>5001</td>\n",
       "      <td>6</td>\n",
       "      <td>42000</td>\n",
       "      <td>728</td>\n",
       "      <td>28</td>\n",
       "      <td>14</td>\n",
       "      <td>...</td>\n",
       "      <td>2</td>\n",
       "      <td>9.878049</td>\n",
       "      <td>399</td>\n",
       "      <td>7</td>\n",
       "      <td>15260</td>\n",
       "      <td>42728</td>\n",
       "      <td>1017.333333</td>\n",
       "      <td>405</td>\n",
       "      <td>1017.333333</td>\n",
       "      <td>103.75</td>\n",
       "    </tr>\n",
       "    <tr>\n",
       "      <th>...</th>\n",
       "      <td>...</td>\n",
       "      <td>...</td>\n",
       "      <td>...</td>\n",
       "      <td>...</td>\n",
       "      <td>...</td>\n",
       "      <td>...</td>\n",
       "      <td>...</td>\n",
       "      <td>...</td>\n",
       "      <td>...</td>\n",
       "      <td>...</td>\n",
       "      <td>...</td>\n",
       "      <td>...</td>\n",
       "      <td>...</td>\n",
       "      <td>...</td>\n",
       "      <td>...</td>\n",
       "      <td>...</td>\n",
       "      <td>...</td>\n",
       "      <td>...</td>\n",
       "      <td>...</td>\n",
       "      <td>...</td>\n",
       "      <td>...</td>\n",
       "    </tr>\n",
       "    <tr>\n",
       "      <th>297</th>\n",
       "      <td>1643677957</td>\n",
       "      <td>192.168.96.3</td>\n",
       "      <td>47330</td>\n",
       "      <td>192.168.48.2</td>\n",
       "      <td>5001</td>\n",
       "      <td>6</td>\n",
       "      <td>1807500</td>\n",
       "      <td>24232</td>\n",
       "      <td>1205</td>\n",
       "      <td>466</td>\n",
       "      <td>...</td>\n",
       "      <td>10</td>\n",
       "      <td>0.583234</td>\n",
       "      <td>33</td>\n",
       "      <td>243</td>\n",
       "      <td>27312</td>\n",
       "      <td>1831732</td>\n",
       "      <td>1096.189108</td>\n",
       "      <td>974</td>\n",
       "      <td>1096.189108</td>\n",
       "      <td>8427.50</td>\n",
       "    </tr>\n",
       "    <tr>\n",
       "      <th>298</th>\n",
       "      <td>1643677958</td>\n",
       "      <td>192.168.96.3</td>\n",
       "      <td>47330</td>\n",
       "      <td>192.168.48.2</td>\n",
       "      <td>5001</td>\n",
       "      <td>6</td>\n",
       "      <td>1576500</td>\n",
       "      <td>21788</td>\n",
       "      <td>1051</td>\n",
       "      <td>419</td>\n",
       "      <td>...</td>\n",
       "      <td>7</td>\n",
       "      <td>0.675970</td>\n",
       "      <td>36</td>\n",
       "      <td>199</td>\n",
       "      <td>27312</td>\n",
       "      <td>1598288</td>\n",
       "      <td>1087.270748</td>\n",
       "      <td>993</td>\n",
       "      <td>1087.270748</td>\n",
       "      <td>8700.00</td>\n",
       "    </tr>\n",
       "    <tr>\n",
       "      <th>299</th>\n",
       "      <td>1643677959</td>\n",
       "      <td>192.168.96.3</td>\n",
       "      <td>47330</td>\n",
       "      <td>192.168.48.2</td>\n",
       "      <td>5001</td>\n",
       "      <td>6</td>\n",
       "      <td>2160000</td>\n",
       "      <td>29224</td>\n",
       "      <td>1440</td>\n",
       "      <td>562</td>\n",
       "      <td>...</td>\n",
       "      <td>8</td>\n",
       "      <td>0.493253</td>\n",
       "      <td>34</td>\n",
       "      <td>223</td>\n",
       "      <td>27364</td>\n",
       "      <td>2189224</td>\n",
       "      <td>1093.518482</td>\n",
       "      <td>987</td>\n",
       "      <td>1093.518482</td>\n",
       "      <td>8367.50</td>\n",
       "    </tr>\n",
       "    <tr>\n",
       "      <th>300</th>\n",
       "      <td>1643677960</td>\n",
       "      <td>192.168.96.3</td>\n",
       "      <td>47330</td>\n",
       "      <td>192.168.48.2</td>\n",
       "      <td>5001</td>\n",
       "      <td>6</td>\n",
       "      <td>1881000</td>\n",
       "      <td>26884</td>\n",
       "      <td>1254</td>\n",
       "      <td>517</td>\n",
       "      <td>...</td>\n",
       "      <td>8</td>\n",
       "      <td>0.554802</td>\n",
       "      <td>35</td>\n",
       "      <td>210</td>\n",
       "      <td>27416</td>\n",
       "      <td>1907884</td>\n",
       "      <td>1077.291925</td>\n",
       "      <td>982</td>\n",
       "      <td>1077.291925</td>\n",
       "      <td>11840.00</td>\n",
       "    </tr>\n",
       "    <tr>\n",
       "      <th>301</th>\n",
       "      <td>1643677961</td>\n",
       "      <td>192.168.96.3</td>\n",
       "      <td>47330</td>\n",
       "      <td>192.168.48.2</td>\n",
       "      <td>5001</td>\n",
       "      <td>6</td>\n",
       "      <td>1954140</td>\n",
       "      <td>39260</td>\n",
       "      <td>1303</td>\n",
       "      <td>755</td>\n",
       "      <td>...</td>\n",
       "      <td>219</td>\n",
       "      <td>0.485173</td>\n",
       "      <td>36</td>\n",
       "      <td>292</td>\n",
       "      <td>24364</td>\n",
       "      <td>1993400</td>\n",
       "      <td>968.610301</td>\n",
       "      <td>998</td>\n",
       "      <td>968.610301</td>\n",
       "      <td>10707.50</td>\n",
       "    </tr>\n",
       "  </tbody>\n",
       "</table>\n",
       "<p>302 rows × 33 columns</p>\n",
       "</div>"
      ],
      "text/plain": [
       "           Time           IP1  Port1           IP2  Port2  Proto  1->2Bytes  \\\n",
       "0    1643677660  192.168.96.3  47330  192.168.48.2   5001      6      13664   \n",
       "1    1643677661  192.168.96.3  47330  192.168.48.2   5001      6      51000   \n",
       "2    1643677662  192.168.96.3  47330  192.168.48.2   5001      6      42000   \n",
       "3    1643677663  192.168.96.3  47330  192.168.48.2   5001      6      63000   \n",
       "4    1643677664  192.168.96.3  47330  192.168.48.2   5001      6      42000   \n",
       "..          ...           ...    ...           ...    ...    ...        ...   \n",
       "297  1643677957  192.168.96.3  47330  192.168.48.2   5001      6    1807500   \n",
       "298  1643677958  192.168.96.3  47330  192.168.48.2   5001      6    1576500   \n",
       "299  1643677959  192.168.96.3  47330  192.168.48.2   5001      6    2160000   \n",
       "300  1643677960  192.168.96.3  47330  192.168.48.2   5001      6    1881000   \n",
       "301  1643677961  192.168.96.3  47330  192.168.48.2   5001      6    1954140   \n",
       "\n",
       "     2->1Bytes  1->2Pkts  2->1Pkts  ... longest_seq mean_tdelta max_tdelta  \\\n",
       "0           60        11         1  ...          11    0.000000          0   \n",
       "1         1520        34        26  ...           3   13.694915        402   \n",
       "2         1456        28        28  ...           2    7.400000        399   \n",
       "3         1196        42        23  ...           3   12.656250        400   \n",
       "4          728        28        14  ...           2    9.878049        399   \n",
       "..         ...       ...       ...  ...         ...         ...        ...   \n",
       "297      24232      1205       466  ...          10    0.583234         33   \n",
       "298      21788      1051       419  ...           7    0.675970         36   \n",
       "299      29224      1440       562  ...           8    0.493253         34   \n",
       "300      26884      1254       517  ...           8    0.554802         35   \n",
       "301      39260      1303       755  ...         219    0.485173         36   \n",
       "\n",
       "    number_ms max_bytes  total_pkt_sizes    pkt_ratio  time_spread  \\\n",
       "0           1     13724            13724  1143.666667            0   \n",
       "1           8     12284            52520   875.333333          808   \n",
       "2           9     10916            43456   776.000000          407   \n",
       "3          11      9156            64196   987.630769          810   \n",
       "4           7     15260            42728  1017.333333          405   \n",
       "..        ...       ...              ...          ...          ...   \n",
       "297       243     27312          1831732  1096.189108          974   \n",
       "298       199     27312          1598288  1087.270748          993   \n",
       "299       223     27364          2189224  1093.518482          987   \n",
       "300       210     27416          1907884  1077.291925          982   \n",
       "301       292     24364          1993400   968.610301          998   \n",
       "\n",
       "      byte_ratio  prediction  \n",
       "0    1143.666667      103.75  \n",
       "1     875.333333      103.75  \n",
       "2     776.000000      103.75  \n",
       "3     987.630769      103.75  \n",
       "4    1017.333333      103.75  \n",
       "..           ...         ...  \n",
       "297  1096.189108     8427.50  \n",
       "298  1087.270748     8700.00  \n",
       "299  1093.518482     8367.50  \n",
       "300  1077.291925    11840.00  \n",
       "301   968.610301    10707.50  \n",
       "\n",
       "[302 rows x 33 columns]"
      ]
     },
     "execution_count": 12,
     "metadata": {},
     "output_type": "execute_result"
    }
   ],
   "source": [
    "dfp = dfr\n",
    "dfr['prediction'] = etree.predict(dfr[indexcol].rolling(10).mean().bfill()) # prediction\n",
    "\n",
    "dfr"
   ]
  },
  {
   "cell_type": "code",
   "execution_count": null,
   "metadata": {},
   "outputs": [
    {
     "data": {
      "text/plain": [
       "array(['drop', nan, 'drop;drop', 'drop;drop;drop'], dtype=object)"
      ]
     },
     "execution_count": 121,
     "metadata": {},
     "output_type": "execute_result"
    }
   ],
   "source": [
    "dfr['event'].unique()"
   ]
  },
  {
   "cell_type": "code",
   "execution_count": null,
   "metadata": {},
   "outputs": [
    {
     "data": {
      "text/html": [
       "<div>\n",
       "<style scoped>\n",
       "    .dataframe tbody tr th:only-of-type {\n",
       "        vertical-align: middle;\n",
       "    }\n",
       "\n",
       "    .dataframe tbody tr th {\n",
       "        vertical-align: top;\n",
       "    }\n",
       "\n",
       "    .dataframe thead th {\n",
       "        text-align: right;\n",
       "    }\n",
       "</style>\n",
       "<table border=\"1\" class=\"dataframe\">\n",
       "  <thead>\n",
       "    <tr style=\"text-align: right;\">\n",
       "      <th></th>\n",
       "      <th>Time</th>\n",
       "      <th>IP1</th>\n",
       "      <th>Port1</th>\n",
       "      <th>IP2</th>\n",
       "      <th>Port2</th>\n",
       "      <th>Proto</th>\n",
       "      <th>1-&gt;2Bytes</th>\n",
       "      <th>2-&gt;1Bytes</th>\n",
       "      <th>1-&gt;2Pkts</th>\n",
       "      <th>2-&gt;1Pkts</th>\n",
       "      <th>...</th>\n",
       "      <th>longest_seq</th>\n",
       "      <th>mean_tdelta</th>\n",
       "      <th>max_tdelta</th>\n",
       "      <th>number_ms</th>\n",
       "      <th>max_bytes</th>\n",
       "      <th>total_pkt_sizes</th>\n",
       "      <th>pkt_ratio</th>\n",
       "      <th>time_spread</th>\n",
       "      <th>byte_ratio</th>\n",
       "      <th>prediction</th>\n",
       "    </tr>\n",
       "  </thead>\n",
       "  <tbody>\n",
       "    <tr>\n",
       "      <th>0</th>\n",
       "      <td>1643677660</td>\n",
       "      <td>192.168.96.3</td>\n",
       "      <td>47330</td>\n",
       "      <td>192.168.48.2</td>\n",
       "      <td>5001</td>\n",
       "      <td>6</td>\n",
       "      <td>13664</td>\n",
       "      <td>60</td>\n",
       "      <td>11</td>\n",
       "      <td>1</td>\n",
       "      <td>...</td>\n",
       "      <td>11</td>\n",
       "      <td>0.000000</td>\n",
       "      <td>0</td>\n",
       "      <td>1</td>\n",
       "      <td>13724</td>\n",
       "      <td>13724</td>\n",
       "      <td>1143.666667</td>\n",
       "      <td>0</td>\n",
       "      <td>1143.666667</td>\n",
       "      <td>105.250</td>\n",
       "    </tr>\n",
       "    <tr>\n",
       "      <th>5</th>\n",
       "      <td>1643677665</td>\n",
       "      <td>192.168.96.3</td>\n",
       "      <td>47330</td>\n",
       "      <td>192.168.48.2</td>\n",
       "      <td>5001</td>\n",
       "      <td>6</td>\n",
       "      <td>57000</td>\n",
       "      <td>1072</td>\n",
       "      <td>38</td>\n",
       "      <td>19</td>\n",
       "      <td>...</td>\n",
       "      <td>4</td>\n",
       "      <td>15.214286</td>\n",
       "      <td>352</td>\n",
       "      <td>10</td>\n",
       "      <td>15208</td>\n",
       "      <td>58072</td>\n",
       "      <td>1018.807018</td>\n",
       "      <td>852</td>\n",
       "      <td>1018.807018</td>\n",
       "      <td>105.250</td>\n",
       "    </tr>\n",
       "    <tr>\n",
       "      <th>6</th>\n",
       "      <td>1643677666</td>\n",
       "      <td>192.168.96.3</td>\n",
       "      <td>47330</td>\n",
       "      <td>192.168.48.2</td>\n",
       "      <td>5001</td>\n",
       "      <td>6</td>\n",
       "      <td>27000</td>\n",
       "      <td>808</td>\n",
       "      <td>18</td>\n",
       "      <td>13</td>\n",
       "      <td>...</td>\n",
       "      <td>5</td>\n",
       "      <td>23.500000</td>\n",
       "      <td>356</td>\n",
       "      <td>8</td>\n",
       "      <td>6244</td>\n",
       "      <td>27808</td>\n",
       "      <td>897.032258</td>\n",
       "      <td>705</td>\n",
       "      <td>897.032258</td>\n",
       "      <td>105.250</td>\n",
       "    </tr>\n",
       "    <tr>\n",
       "      <th>11</th>\n",
       "      <td>1643677671</td>\n",
       "      <td>192.168.96.3</td>\n",
       "      <td>47330</td>\n",
       "      <td>192.168.48.2</td>\n",
       "      <td>5001</td>\n",
       "      <td>6</td>\n",
       "      <td>78000</td>\n",
       "      <td>1144</td>\n",
       "      <td>52</td>\n",
       "      <td>22</td>\n",
       "      <td>...</td>\n",
       "      <td>4</td>\n",
       "      <td>12.150685</td>\n",
       "      <td>153</td>\n",
       "      <td>19</td>\n",
       "      <td>9104</td>\n",
       "      <td>79144</td>\n",
       "      <td>1069.513514</td>\n",
       "      <td>887</td>\n",
       "      <td>1069.513514</td>\n",
       "      <td>102.625</td>\n",
       "    </tr>\n",
       "    <tr>\n",
       "      <th>16</th>\n",
       "      <td>1643677676</td>\n",
       "      <td>192.168.96.3</td>\n",
       "      <td>47330</td>\n",
       "      <td>192.168.48.2</td>\n",
       "      <td>5001</td>\n",
       "      <td>6</td>\n",
       "      <td>99000</td>\n",
       "      <td>1852</td>\n",
       "      <td>66</td>\n",
       "      <td>34</td>\n",
       "      <td>...</td>\n",
       "      <td>4</td>\n",
       "      <td>9.787879</td>\n",
       "      <td>92</td>\n",
       "      <td>24</td>\n",
       "      <td>9156</td>\n",
       "      <td>100852</td>\n",
       "      <td>1008.520000</td>\n",
       "      <td>969</td>\n",
       "      <td>1008.520000</td>\n",
       "      <td>151.750</td>\n",
       "    </tr>\n",
       "    <tr>\n",
       "      <th>...</th>\n",
       "      <td>...</td>\n",
       "      <td>...</td>\n",
       "      <td>...</td>\n",
       "      <td>...</td>\n",
       "      <td>...</td>\n",
       "      <td>...</td>\n",
       "      <td>...</td>\n",
       "      <td>...</td>\n",
       "      <td>...</td>\n",
       "      <td>...</td>\n",
       "      <td>...</td>\n",
       "      <td>...</td>\n",
       "      <td>...</td>\n",
       "      <td>...</td>\n",
       "      <td>...</td>\n",
       "      <td>...</td>\n",
       "      <td>...</td>\n",
       "      <td>...</td>\n",
       "      <td>...</td>\n",
       "      <td>...</td>\n",
       "      <td>...</td>\n",
       "    </tr>\n",
       "    <tr>\n",
       "      <th>260</th>\n",
       "      <td>1643677920</td>\n",
       "      <td>192.168.96.3</td>\n",
       "      <td>47330</td>\n",
       "      <td>192.168.48.2</td>\n",
       "      <td>5001</td>\n",
       "      <td>6</td>\n",
       "      <td>2085000</td>\n",
       "      <td>30448</td>\n",
       "      <td>1390</td>\n",
       "      <td>574</td>\n",
       "      <td>...</td>\n",
       "      <td>9</td>\n",
       "      <td>0.499745</td>\n",
       "      <td>55</td>\n",
       "      <td>257</td>\n",
       "      <td>31968</td>\n",
       "      <td>2115448</td>\n",
       "      <td>1077.112016</td>\n",
       "      <td>981</td>\n",
       "      <td>1077.112016</td>\n",
       "      <td>13457.500</td>\n",
       "    </tr>\n",
       "    <tr>\n",
       "      <th>263</th>\n",
       "      <td>1643677923</td>\n",
       "      <td>192.168.96.3</td>\n",
       "      <td>47330</td>\n",
       "      <td>192.168.48.2</td>\n",
       "      <td>5001</td>\n",
       "      <td>6</td>\n",
       "      <td>2032500</td>\n",
       "      <td>29356</td>\n",
       "      <td>1355</td>\n",
       "      <td>559</td>\n",
       "      <td>...</td>\n",
       "      <td>8</td>\n",
       "      <td>0.499739</td>\n",
       "      <td>53</td>\n",
       "      <td>237</td>\n",
       "      <td>35072</td>\n",
       "      <td>2061856</td>\n",
       "      <td>1077.249739</td>\n",
       "      <td>956</td>\n",
       "      <td>1077.249739</td>\n",
       "      <td>13330.000</td>\n",
       "    </tr>\n",
       "    <tr>\n",
       "      <th>273</th>\n",
       "      <td>1643677933</td>\n",
       "      <td>192.168.96.3</td>\n",
       "      <td>47330</td>\n",
       "      <td>192.168.48.2</td>\n",
       "      <td>5001</td>\n",
       "      <td>6</td>\n",
       "      <td>1470000</td>\n",
       "      <td>20552</td>\n",
       "      <td>980</td>\n",
       "      <td>377</td>\n",
       "      <td>...</td>\n",
       "      <td>10</td>\n",
       "      <td>0.733776</td>\n",
       "      <td>49</td>\n",
       "      <td>216</td>\n",
       "      <td>27364</td>\n",
       "      <td>1490552</td>\n",
       "      <td>1098.417097</td>\n",
       "      <td>995</td>\n",
       "      <td>1098.417097</td>\n",
       "      <td>12332.500</td>\n",
       "    </tr>\n",
       "    <tr>\n",
       "      <th>282</th>\n",
       "      <td>1643677942</td>\n",
       "      <td>192.168.96.3</td>\n",
       "      <td>47330</td>\n",
       "      <td>192.168.48.2</td>\n",
       "      <td>5001</td>\n",
       "      <td>6</td>\n",
       "      <td>1990500</td>\n",
       "      <td>28964</td>\n",
       "      <td>1327</td>\n",
       "      <td>557</td>\n",
       "      <td>...</td>\n",
       "      <td>8</td>\n",
       "      <td>0.505576</td>\n",
       "      <td>52</td>\n",
       "      <td>294</td>\n",
       "      <td>25916</td>\n",
       "      <td>2019464</td>\n",
       "      <td>1071.902335</td>\n",
       "      <td>952</td>\n",
       "      <td>1071.902335</td>\n",
       "      <td>12797.500</td>\n",
       "    </tr>\n",
       "    <tr>\n",
       "      <th>286</th>\n",
       "      <td>1643677946</td>\n",
       "      <td>192.168.96.3</td>\n",
       "      <td>47330</td>\n",
       "      <td>192.168.48.2</td>\n",
       "      <td>5001</td>\n",
       "      <td>6</td>\n",
       "      <td>1750500</td>\n",
       "      <td>24332</td>\n",
       "      <td>1167</td>\n",
       "      <td>467</td>\n",
       "      <td>...</td>\n",
       "      <td>10</td>\n",
       "      <td>0.609308</td>\n",
       "      <td>59</td>\n",
       "      <td>238</td>\n",
       "      <td>27104</td>\n",
       "      <td>1774832</td>\n",
       "      <td>1086.188494</td>\n",
       "      <td>995</td>\n",
       "      <td>1086.188494</td>\n",
       "      <td>12057.500</td>\n",
       "    </tr>\n",
       "  </tbody>\n",
       "</table>\n",
       "<p>87 rows × 33 columns</p>\n",
       "</div>"
      ],
      "text/plain": [
       "           Time           IP1  Port1           IP2  Port2  Proto  1->2Bytes  \\\n",
       "0    1643677660  192.168.96.3  47330  192.168.48.2   5001      6      13664   \n",
       "5    1643677665  192.168.96.3  47330  192.168.48.2   5001      6      57000   \n",
       "6    1643677666  192.168.96.3  47330  192.168.48.2   5001      6      27000   \n",
       "11   1643677671  192.168.96.3  47330  192.168.48.2   5001      6      78000   \n",
       "16   1643677676  192.168.96.3  47330  192.168.48.2   5001      6      99000   \n",
       "..          ...           ...    ...           ...    ...    ...        ...   \n",
       "260  1643677920  192.168.96.3  47330  192.168.48.2   5001      6    2085000   \n",
       "263  1643677923  192.168.96.3  47330  192.168.48.2   5001      6    2032500   \n",
       "273  1643677933  192.168.96.3  47330  192.168.48.2   5001      6    1470000   \n",
       "282  1643677942  192.168.96.3  47330  192.168.48.2   5001      6    1990500   \n",
       "286  1643677946  192.168.96.3  47330  192.168.48.2   5001      6    1750500   \n",
       "\n",
       "     2->1Bytes  1->2Pkts  2->1Pkts  ... longest_seq mean_tdelta max_tdelta  \\\n",
       "0           60        11         1  ...          11    0.000000          0   \n",
       "5         1072        38        19  ...           4   15.214286        352   \n",
       "6          808        18        13  ...           5   23.500000        356   \n",
       "11        1144        52        22  ...           4   12.150685        153   \n",
       "16        1852        66        34  ...           4    9.787879         92   \n",
       "..         ...       ...       ...  ...         ...         ...        ...   \n",
       "260      30448      1390       574  ...           9    0.499745         55   \n",
       "263      29356      1355       559  ...           8    0.499739         53   \n",
       "273      20552       980       377  ...          10    0.733776         49   \n",
       "282      28964      1327       557  ...           8    0.505576         52   \n",
       "286      24332      1167       467  ...          10    0.609308         59   \n",
       "\n",
       "    number_ms max_bytes  total_pkt_sizes    pkt_ratio  time_spread  \\\n",
       "0           1     13724            13724  1143.666667            0   \n",
       "5          10     15208            58072  1018.807018          852   \n",
       "6           8      6244            27808   897.032258          705   \n",
       "11         19      9104            79144  1069.513514          887   \n",
       "16         24      9156           100852  1008.520000          969   \n",
       "..        ...       ...              ...          ...          ...   \n",
       "260       257     31968          2115448  1077.112016          981   \n",
       "263       237     35072          2061856  1077.249739          956   \n",
       "273       216     27364          1490552  1098.417097          995   \n",
       "282       294     25916          2019464  1071.902335          952   \n",
       "286       238     27104          1774832  1086.188494          995   \n",
       "\n",
       "      byte_ratio  prediction  \n",
       "0    1143.666667     105.250  \n",
       "5    1018.807018     105.250  \n",
       "6     897.032258     105.250  \n",
       "11   1069.513514     102.625  \n",
       "16   1008.520000     151.750  \n",
       "..           ...         ...  \n",
       "260  1077.112016   13457.500  \n",
       "263  1077.249739   13330.000  \n",
       "273  1098.417097   12332.500  \n",
       "282  1071.902335   12797.500  \n",
       "286  1086.188494   12057.500  \n",
       "\n",
       "[87 rows x 33 columns]"
      ]
     },
     "execution_count": 123,
     "metadata": {},
     "output_type": "execute_result"
    }
   ],
   "source": [
    "dfr[~dfr['event'].isnull()]"
   ]
  },
  {
   "cell_type": "code",
   "execution_count": 14,
   "metadata": {},
   "outputs": [
    {
     "data": {
      "text/plain": [
       "0      13724\n",
       "1      12284\n",
       "2      10916\n",
       "3       9156\n",
       "4      15260\n",
       "       ...  \n",
       "297    27312\n",
       "298    27312\n",
       "299    27364\n",
       "300    27416\n",
       "301    24364\n",
       "Name: max_bytes, Length: 302, dtype: int64"
      ]
     },
     "execution_count": 14,
     "metadata": {},
     "output_type": "execute_result"
    }
   ],
   "source": [
    "dfr['max_bytes']"
   ]
  },
  {
   "cell_type": "code",
   "execution_count": 15,
   "metadata": {},
   "outputs": [
    {
     "data": {
      "text/plain": [
       "0      [1643677660646, 1643677660646, 1643677660646, ...\n",
       "1      [1643677661048, 1643677661048, 1643677661048, ...\n",
       "2      [1643677662257, 1643677662257, 1643677662257, ...\n",
       "3      [1643677663063, 1643677663063, 1643677663063, ...\n",
       "4      [1643677664271, 1643677664271, 1643677664271, ...\n",
       "                             ...                        \n",
       "297    [1643677957004, 1643677957004, 1643677957004, ...\n",
       "298    [1643677958005, 1643677958005, 1643677958005, ...\n",
       "299    [1643677959003, 1643677959003, 1643677959003, ...\n",
       "300    [1643677960015, 1643677960015, 1643677960015, ...\n",
       "301    [1643677961000, 1643677961000, 1643677961000, ...\n",
       "Name: packet_times, Length: 302, dtype: object"
      ]
     },
     "execution_count": 15,
     "metadata": {},
     "output_type": "execute_result"
    }
   ],
   "source": [
    "x = dfr['packet_times']\n",
    "x"
   ]
  },
  {
   "cell_type": "code",
   "execution_count": null,
   "metadata": {},
   "outputs": [],
   "source": []
  },
  {
   "cell_type": "code",
   "execution_count": 16,
   "metadata": {},
   "outputs": [
    {
     "data": {
      "text/plain": [
       "0      [60, 52, 112, 1500, 1500, 1500, 1500, 1500, 15...\n",
       "1      [52, 1500, 1500, 52, 1500, 1500, 52, 1500, 150...\n",
       "2      [52, 1500, 52, 52, 1500, 1500, 52, 52, 1500, 1...\n",
       "3      [52, 1500, 52, 52, 1500, 1500, 52, 52, 1500, 1...\n",
       "4      [52, 1500, 1500, 52, 1500, 1500, 52, 1500, 150...\n",
       "                             ...                        \n",
       "297    [52, 1500, 1500, 52, 1500, 1500, 52, 1500, 150...\n",
       "298    [52, 1500, 1500, 52, 1500, 1500, 1500, 1500, 5...\n",
       "299    [52, 1500, 1500, 1500, 1500, 1500, 1500, 1500,...\n",
       "300    [52, 1500, 1500, 1500, 1500, 52, 1500, 1500, 1...\n",
       "301    [52, 1500, 1500, 52, 1500, 1500, 52, 1500, 150...\n",
       "Name: packet_sizes, Length: 302, dtype: object"
      ]
     },
     "execution_count": 16,
     "metadata": {},
     "output_type": "execute_result"
    }
   ],
   "source": [
    "y = dfr.packet_sizes\n",
    "y"
   ]
  },
  {
   "cell_type": "code",
   "execution_count": 17,
   "metadata": {},
   "outputs": [
    {
     "name": "stdout",
     "output_type": "stream",
     "text": [
      "17.1 ms ± 2.11 ms per loop (mean ± std. dev. of 7 runs, 100 loops each)\n"
     ]
    }
   ],
   "source": [
    "# %%timeit\n",
    "pd.DataFrame([x[100],y[100]]).T.groupby(0).transform(sum).max().values[0]"
   ]
  },
  {
   "cell_type": "code",
   "execution_count": 18,
   "metadata": {},
   "outputs": [
    {
     "data": {
      "text/plain": [
       "9104"
      ]
     },
     "execution_count": 18,
     "metadata": {},
     "output_type": "execute_result"
    }
   ],
   "source": [
    "# %%timeit\n",
    "pd.DataFrame([x[100],y[100]]).T.groupby(0).sum().max().values[0]"
   ]
  },
  {
   "cell_type": "code",
   "execution_count": 19,
   "metadata": {},
   "outputs": [
    {
     "data": {
      "text/plain": [
       "9104"
      ]
     },
     "execution_count": 19,
     "metadata": {},
     "output_type": "execute_result"
    }
   ],
   "source": [
    "# %%timeit\n",
    "pd.DataFrame([x[100],y[100]]).T.groupby(0).sum().values.max()"
   ]
  },
  {
   "cell_type": "code",
   "execution_count": 20,
   "metadata": {},
   "outputs": [
    {
     "data": {
      "text/plain": [
       "9104"
      ]
     },
     "execution_count": 20,
     "metadata": {},
     "output_type": "execute_result"
    }
   ],
   "source": [
    "pd.DataFrame([x[100],y[100]]).T.groupby(0)[1].sum().values.max()\n",
    "# pd.DataFrame([x[100],y[100]]).T.groupby(0).max().values.sum().plot"
   ]
  },
  {
   "cell_type": "code",
   "execution_count": 21,
   "metadata": {},
   "outputs": [
    {
     "name": "stdout",
     "output_type": "stream",
     "text": [
      "27.4 s ± 3.48 s per loop (mean ± std. dev. of 7 runs, 1 loop each)\n"
     ]
    }
   ],
   "source": [
    "# %%timeit\n",
    "dfr.apply(lambda x: max_bytes(x['packet_times'],x['packet_sizes']),axis=1)"
   ]
  },
  {
   "cell_type": "code",
   "execution_count": 22,
   "metadata": {},
   "outputs": [
    {
     "data": {
      "text/plain": [
       "0        13724\n",
       "1        52520\n",
       "2        43456\n",
       "3        64196\n",
       "4        42728\n",
       "        ...   \n",
       "297    1831732\n",
       "298    1598288\n",
       "299    2189224\n",
       "300    1907884\n",
       "301    1993400\n",
       "Name: packet_sizes, Length: 302, dtype: int64"
      ]
     },
     "execution_count": 22,
     "metadata": {},
     "output_type": "execute_result"
    }
   ],
   "source": [
    "dfr['packet_sizes'].apply(lambda x: sum(x))"
   ]
  },
  {
   "cell_type": "code",
   "execution_count": 24,
   "metadata": {},
   "outputs": [
    {
     "data": {
      "text/plain": [
       "[1643677760032,\n",
       " 1643677760032,\n",
       " 1643677760032,\n",
       " 1643677760032,\n",
       " 1643677760032,\n",
       " 1643677760032,\n",
       " 1643677760032,\n",
       " 1643677760032,\n",
       " 1643677760078,\n",
       " 1643677760078]"
      ]
     },
     "execution_count": 24,
     "metadata": {},
     "output_type": "execute_result"
    }
   ],
   "source": [
    "x100 = x[100]\n",
    "x100[:10]"
   ]
  },
  {
   "cell_type": "code",
   "execution_count": 26,
   "metadata": {},
   "outputs": [
    {
     "data": {
      "text/plain": [
       "1643677760032"
      ]
     },
     "execution_count": 26,
     "metadata": {},
     "output_type": "execute_result"
    }
   ],
   "source": [
    "from scipy.stats import mode\n",
    "\n",
    "mode(x100)[0][0]"
   ]
  },
  {
   "cell_type": "code",
   "execution_count": null,
   "metadata": {},
   "outputs": [
    {
     "name": "stdout",
     "output_type": "stream",
     "text": [
      "The slowest run took 4.66 times longer than the fastest. This could mean that an intermediate result is being cached.\n",
      "1.56 ms ± 948 µs per loop (mean ± std. dev. of 7 runs, 100 loops each)\n"
     ]
    }
   ],
   "source": [
    "%%timeit\n",
    "mode(x100)[0][0]"
   ]
  },
  {
   "cell_type": "code",
   "execution_count": null,
   "metadata": {},
   "outputs": [
    {
     "data": {
      "text/html": [
       "<div>\n",
       "<style scoped>\n",
       "    .dataframe tbody tr th:only-of-type {\n",
       "        vertical-align: middle;\n",
       "    }\n",
       "\n",
       "    .dataframe tbody tr th {\n",
       "        vertical-align: top;\n",
       "    }\n",
       "\n",
       "    .dataframe thead th {\n",
       "        text-align: right;\n",
       "    }\n",
       "</style>\n",
       "<table border=\"1\" class=\"dataframe\">\n",
       "  <thead>\n",
       "    <tr style=\"text-align: right;\">\n",
       "      <th></th>\n",
       "      <th>0</th>\n",
       "      <th>1</th>\n",
       "    </tr>\n",
       "  </thead>\n",
       "  <tbody>\n",
       "    <tr>\n",
       "      <th>0</th>\n",
       "      <td>1643677660646</td>\n",
       "      <td>60</td>\n",
       "    </tr>\n",
       "    <tr>\n",
       "      <th>1</th>\n",
       "      <td>1643677660646</td>\n",
       "      <td>52</td>\n",
       "    </tr>\n",
       "    <tr>\n",
       "      <th>2</th>\n",
       "      <td>1643677660646</td>\n",
       "      <td>112</td>\n",
       "    </tr>\n",
       "    <tr>\n",
       "      <th>3</th>\n",
       "      <td>1643677660646</td>\n",
       "      <td>1500</td>\n",
       "    </tr>\n",
       "    <tr>\n",
       "      <th>4</th>\n",
       "      <td>1643677660646</td>\n",
       "      <td>1500</td>\n",
       "    </tr>\n",
       "    <tr>\n",
       "      <th>5</th>\n",
       "      <td>1643677660646</td>\n",
       "      <td>1500</td>\n",
       "    </tr>\n",
       "    <tr>\n",
       "      <th>6</th>\n",
       "      <td>1643677660646</td>\n",
       "      <td>1500</td>\n",
       "    </tr>\n",
       "    <tr>\n",
       "      <th>7</th>\n",
       "      <td>1643677660646</td>\n",
       "      <td>1500</td>\n",
       "    </tr>\n",
       "    <tr>\n",
       "      <th>8</th>\n",
       "      <td>1643677660646</td>\n",
       "      <td>1500</td>\n",
       "    </tr>\n",
       "    <tr>\n",
       "      <th>9</th>\n",
       "      <td>1643677660646</td>\n",
       "      <td>1500</td>\n",
       "    </tr>\n",
       "    <tr>\n",
       "      <th>10</th>\n",
       "      <td>1643677660646</td>\n",
       "      <td>1500</td>\n",
       "    </tr>\n",
       "    <tr>\n",
       "      <th>11</th>\n",
       "      <td>1643677660646</td>\n",
       "      <td>1500</td>\n",
       "    </tr>\n",
       "  </tbody>\n",
       "</table>\n",
       "</div>"
      ],
      "text/plain": [
       "                0     1\n",
       "0   1643677660646    60\n",
       "1   1643677660646    52\n",
       "2   1643677660646   112\n",
       "3   1643677660646  1500\n",
       "4   1643677660646  1500\n",
       "5   1643677660646  1500\n",
       "6   1643677660646  1500\n",
       "7   1643677660646  1500\n",
       "8   1643677660646  1500\n",
       "9   1643677660646  1500\n",
       "10  1643677660646  1500\n",
       "11  1643677660646  1500"
      ]
     },
     "execution_count": 339,
     "metadata": {},
     "output_type": "execute_result"
    }
   ],
   "source": [
    "test = pd.DataFrame([x[0],y[0]]).T\n",
    "test"
   ]
  },
  {
   "cell_type": "code",
   "execution_count": null,
   "metadata": {},
   "outputs": [
    {
     "data": {
      "text/plain": [
       "1643677660646"
      ]
     },
     "execution_count": 344,
     "metadata": {},
     "output_type": "execute_result"
    }
   ],
   "source": [
    "test[0].mode()[0]"
   ]
  },
  {
   "cell_type": "code",
   "execution_count": null,
   "metadata": {},
   "outputs": [
    {
     "data": {
      "text/plain": [
       "13724"
      ]
     },
     "execution_count": 345,
     "metadata": {},
     "output_type": "execute_result"
    }
   ],
   "source": [
    "test[test[0] == test[0].mode()[0]][1].sum()"
   ]
  },
  {
   "cell_type": "code",
   "execution_count": null,
   "metadata": {},
   "outputs": [
    {
     "ename": "KeyboardInterrupt",
     "evalue": "",
     "output_type": "error",
     "traceback": [
      "\u001b[1;31m---------------------------------------------------------------------------\u001b[0m",
      "\u001b[1;31mKeyboardInterrupt\u001b[0m                         Traceback (most recent call last)",
      "\u001b[1;32m<ipython-input-346-34bbb9fc146e>\u001b[0m in \u001b[0;36m<module>\u001b[1;34m\u001b[0m\n\u001b[0;32m      2\u001b[0m     \u001b[0mtempdf\u001b[0m \u001b[1;33m=\u001b[0m \u001b[0mpd\u001b[0m\u001b[1;33m.\u001b[0m\u001b[0mDataFrame\u001b[0m\u001b[1;33m(\u001b[0m\u001b[1;33m[\u001b[0m\u001b[0mx\u001b[0m\u001b[1;33m,\u001b[0m\u001b[0my\u001b[0m\u001b[1;33m]\u001b[0m\u001b[1;33m)\u001b[0m\u001b[1;33m.\u001b[0m\u001b[0mT\u001b[0m\u001b[1;33m\u001b[0m\u001b[1;33m\u001b[0m\u001b[0m\n\u001b[0;32m      3\u001b[0m     \u001b[1;32mreturn\u001b[0m \u001b[0mtempdf\u001b[0m\u001b[1;33m[\u001b[0m\u001b[0mtempdf\u001b[0m \u001b[1;33m==\u001b[0m \u001b[0mtempdf\u001b[0m\u001b[1;33m.\u001b[0m\u001b[0mmode\u001b[0m\u001b[1;33m(\u001b[0m\u001b[1;33m)\u001b[0m\u001b[1;33m[\u001b[0m\u001b[1;36m0\u001b[0m\u001b[1;33m]\u001b[0m\u001b[1;33m]\u001b[0m\u001b[1;33m[\u001b[0m\u001b[1;36m1\u001b[0m\u001b[1;33m]\u001b[0m\u001b[1;33m.\u001b[0m\u001b[0msum\u001b[0m\u001b[1;33m(\u001b[0m\u001b[1;33m)\u001b[0m\u001b[1;33m\u001b[0m\u001b[1;33m\u001b[0m\u001b[0m\n\u001b[1;32m----> 4\u001b[1;33m \u001b[0mdfr\u001b[0m\u001b[1;33m.\u001b[0m\u001b[0mapply\u001b[0m\u001b[1;33m(\u001b[0m\u001b[1;32mlambda\u001b[0m \u001b[0mx\u001b[0m\u001b[1;33m:\u001b[0m \u001b[0mmode_bytes\u001b[0m\u001b[1;33m(\u001b[0m\u001b[0mx\u001b[0m\u001b[1;33m[\u001b[0m\u001b[1;34m'packet_times'\u001b[0m\u001b[1;33m]\u001b[0m\u001b[1;33m,\u001b[0m\u001b[0mx\u001b[0m\u001b[1;33m[\u001b[0m\u001b[1;34m'packet_sizes'\u001b[0m\u001b[1;33m]\u001b[0m\u001b[1;33m)\u001b[0m\u001b[1;33m,\u001b[0m\u001b[0maxis\u001b[0m\u001b[1;33m=\u001b[0m\u001b[1;36m1\u001b[0m\u001b[1;33m)\u001b[0m\u001b[1;33m\u001b[0m\u001b[1;33m\u001b[0m\u001b[0m\n\u001b[0m",
      "\u001b[1;32m~\\.conda\\envs\\sklearn\\lib\\site-packages\\pandas\\core\\frame.py\u001b[0m in \u001b[0;36mapply\u001b[1;34m(self, func, axis, raw, result_type, args, **kwds)\u001b[0m\n\u001b[0;32m   7766\u001b[0m             \u001b[0mkwds\u001b[0m\u001b[1;33m=\u001b[0m\u001b[0mkwds\u001b[0m\u001b[1;33m,\u001b[0m\u001b[1;33m\u001b[0m\u001b[1;33m\u001b[0m\u001b[0m\n\u001b[0;32m   7767\u001b[0m         )\n\u001b[1;32m-> 7768\u001b[1;33m         \u001b[1;32mreturn\u001b[0m \u001b[0mop\u001b[0m\u001b[1;33m.\u001b[0m\u001b[0mget_result\u001b[0m\u001b[1;33m(\u001b[0m\u001b[1;33m)\u001b[0m\u001b[1;33m\u001b[0m\u001b[1;33m\u001b[0m\u001b[0m\n\u001b[0m\u001b[0;32m   7769\u001b[0m \u001b[1;33m\u001b[0m\u001b[0m\n\u001b[0;32m   7770\u001b[0m     \u001b[1;32mdef\u001b[0m \u001b[0mapplymap\u001b[0m\u001b[1;33m(\u001b[0m\u001b[0mself\u001b[0m\u001b[1;33m,\u001b[0m \u001b[0mfunc\u001b[0m\u001b[1;33m,\u001b[0m \u001b[0mna_action\u001b[0m\u001b[1;33m:\u001b[0m \u001b[0mOptional\u001b[0m\u001b[1;33m[\u001b[0m\u001b[0mstr\u001b[0m\u001b[1;33m]\u001b[0m \u001b[1;33m=\u001b[0m \u001b[1;32mNone\u001b[0m\u001b[1;33m)\u001b[0m \u001b[1;33m->\u001b[0m \u001b[0mDataFrame\u001b[0m\u001b[1;33m:\u001b[0m\u001b[1;33m\u001b[0m\u001b[1;33m\u001b[0m\u001b[0m\n",
      "\u001b[1;32m~\\.conda\\envs\\sklearn\\lib\\site-packages\\pandas\\core\\apply.py\u001b[0m in \u001b[0;36mget_result\u001b[1;34m(self)\u001b[0m\n\u001b[0;32m    183\u001b[0m             \u001b[1;32mreturn\u001b[0m \u001b[0mself\u001b[0m\u001b[1;33m.\u001b[0m\u001b[0mapply_raw\u001b[0m\u001b[1;33m(\u001b[0m\u001b[1;33m)\u001b[0m\u001b[1;33m\u001b[0m\u001b[1;33m\u001b[0m\u001b[0m\n\u001b[0;32m    184\u001b[0m \u001b[1;33m\u001b[0m\u001b[0m\n\u001b[1;32m--> 185\u001b[1;33m         \u001b[1;32mreturn\u001b[0m \u001b[0mself\u001b[0m\u001b[1;33m.\u001b[0m\u001b[0mapply_standard\u001b[0m\u001b[1;33m(\u001b[0m\u001b[1;33m)\u001b[0m\u001b[1;33m\u001b[0m\u001b[1;33m\u001b[0m\u001b[0m\n\u001b[0m\u001b[0;32m    186\u001b[0m \u001b[1;33m\u001b[0m\u001b[0m\n\u001b[0;32m    187\u001b[0m     \u001b[1;32mdef\u001b[0m \u001b[0mapply_empty_result\u001b[0m\u001b[1;33m(\u001b[0m\u001b[0mself\u001b[0m\u001b[1;33m)\u001b[0m\u001b[1;33m:\u001b[0m\u001b[1;33m\u001b[0m\u001b[1;33m\u001b[0m\u001b[0m\n",
      "\u001b[1;32m~\\.conda\\envs\\sklearn\\lib\\site-packages\\pandas\\core\\apply.py\u001b[0m in \u001b[0;36mapply_standard\u001b[1;34m(self)\u001b[0m\n\u001b[0;32m    274\u001b[0m \u001b[1;33m\u001b[0m\u001b[0m\n\u001b[0;32m    275\u001b[0m     \u001b[1;32mdef\u001b[0m \u001b[0mapply_standard\u001b[0m\u001b[1;33m(\u001b[0m\u001b[0mself\u001b[0m\u001b[1;33m)\u001b[0m\u001b[1;33m:\u001b[0m\u001b[1;33m\u001b[0m\u001b[1;33m\u001b[0m\u001b[0m\n\u001b[1;32m--> 276\u001b[1;33m         \u001b[0mresults\u001b[0m\u001b[1;33m,\u001b[0m \u001b[0mres_index\u001b[0m \u001b[1;33m=\u001b[0m \u001b[0mself\u001b[0m\u001b[1;33m.\u001b[0m\u001b[0mapply_series_generator\u001b[0m\u001b[1;33m(\u001b[0m\u001b[1;33m)\u001b[0m\u001b[1;33m\u001b[0m\u001b[1;33m\u001b[0m\u001b[0m\n\u001b[0m\u001b[0;32m    277\u001b[0m \u001b[1;33m\u001b[0m\u001b[0m\n\u001b[0;32m    278\u001b[0m         \u001b[1;31m# wrap results\u001b[0m\u001b[1;33m\u001b[0m\u001b[1;33m\u001b[0m\u001b[1;33m\u001b[0m\u001b[0m\n",
      "\u001b[1;32m~\\.conda\\envs\\sklearn\\lib\\site-packages\\pandas\\core\\apply.py\u001b[0m in \u001b[0;36mapply_series_generator\u001b[1;34m(self)\u001b[0m\n\u001b[0;32m    288\u001b[0m             \u001b[1;32mfor\u001b[0m \u001b[0mi\u001b[0m\u001b[1;33m,\u001b[0m \u001b[0mv\u001b[0m \u001b[1;32min\u001b[0m \u001b[0menumerate\u001b[0m\u001b[1;33m(\u001b[0m\u001b[0mseries_gen\u001b[0m\u001b[1;33m)\u001b[0m\u001b[1;33m:\u001b[0m\u001b[1;33m\u001b[0m\u001b[1;33m\u001b[0m\u001b[0m\n\u001b[0;32m    289\u001b[0m                 \u001b[1;31m# ignore SettingWithCopy here in case the user mutates\u001b[0m\u001b[1;33m\u001b[0m\u001b[1;33m\u001b[0m\u001b[1;33m\u001b[0m\u001b[0m\n\u001b[1;32m--> 290\u001b[1;33m                 \u001b[0mresults\u001b[0m\u001b[1;33m[\u001b[0m\u001b[0mi\u001b[0m\u001b[1;33m]\u001b[0m \u001b[1;33m=\u001b[0m \u001b[0mself\u001b[0m\u001b[1;33m.\u001b[0m\u001b[0mf\u001b[0m\u001b[1;33m(\u001b[0m\u001b[0mv\u001b[0m\u001b[1;33m)\u001b[0m\u001b[1;33m\u001b[0m\u001b[1;33m\u001b[0m\u001b[0m\n\u001b[0m\u001b[0;32m    291\u001b[0m                 \u001b[1;32mif\u001b[0m \u001b[0misinstance\u001b[0m\u001b[1;33m(\u001b[0m\u001b[0mresults\u001b[0m\u001b[1;33m[\u001b[0m\u001b[0mi\u001b[0m\u001b[1;33m]\u001b[0m\u001b[1;33m,\u001b[0m \u001b[0mABCSeries\u001b[0m\u001b[1;33m)\u001b[0m\u001b[1;33m:\u001b[0m\u001b[1;33m\u001b[0m\u001b[1;33m\u001b[0m\u001b[0m\n\u001b[0;32m    292\u001b[0m                     \u001b[1;31m# If we have a view on v, we need to make a copy because\u001b[0m\u001b[1;33m\u001b[0m\u001b[1;33m\u001b[0m\u001b[1;33m\u001b[0m\u001b[0m\n",
      "\u001b[1;32m<ipython-input-346-34bbb9fc146e>\u001b[0m in \u001b[0;36m<lambda>\u001b[1;34m(x)\u001b[0m\n\u001b[0;32m      2\u001b[0m     \u001b[0mtempdf\u001b[0m \u001b[1;33m=\u001b[0m \u001b[0mpd\u001b[0m\u001b[1;33m.\u001b[0m\u001b[0mDataFrame\u001b[0m\u001b[1;33m(\u001b[0m\u001b[1;33m[\u001b[0m\u001b[0mx\u001b[0m\u001b[1;33m,\u001b[0m\u001b[0my\u001b[0m\u001b[1;33m]\u001b[0m\u001b[1;33m)\u001b[0m\u001b[1;33m.\u001b[0m\u001b[0mT\u001b[0m\u001b[1;33m\u001b[0m\u001b[1;33m\u001b[0m\u001b[0m\n\u001b[0;32m      3\u001b[0m     \u001b[1;32mreturn\u001b[0m \u001b[0mtempdf\u001b[0m\u001b[1;33m[\u001b[0m\u001b[0mtempdf\u001b[0m \u001b[1;33m==\u001b[0m \u001b[0mtempdf\u001b[0m\u001b[1;33m.\u001b[0m\u001b[0mmode\u001b[0m\u001b[1;33m(\u001b[0m\u001b[1;33m)\u001b[0m\u001b[1;33m[\u001b[0m\u001b[1;36m0\u001b[0m\u001b[1;33m]\u001b[0m\u001b[1;33m]\u001b[0m\u001b[1;33m[\u001b[0m\u001b[1;36m1\u001b[0m\u001b[1;33m]\u001b[0m\u001b[1;33m.\u001b[0m\u001b[0msum\u001b[0m\u001b[1;33m(\u001b[0m\u001b[1;33m)\u001b[0m\u001b[1;33m\u001b[0m\u001b[1;33m\u001b[0m\u001b[0m\n\u001b[1;32m----> 4\u001b[1;33m \u001b[0mdfr\u001b[0m\u001b[1;33m.\u001b[0m\u001b[0mapply\u001b[0m\u001b[1;33m(\u001b[0m\u001b[1;32mlambda\u001b[0m \u001b[0mx\u001b[0m\u001b[1;33m:\u001b[0m \u001b[0mmode_bytes\u001b[0m\u001b[1;33m(\u001b[0m\u001b[0mx\u001b[0m\u001b[1;33m[\u001b[0m\u001b[1;34m'packet_times'\u001b[0m\u001b[1;33m]\u001b[0m\u001b[1;33m,\u001b[0m\u001b[0mx\u001b[0m\u001b[1;33m[\u001b[0m\u001b[1;34m'packet_sizes'\u001b[0m\u001b[1;33m]\u001b[0m\u001b[1;33m)\u001b[0m\u001b[1;33m,\u001b[0m\u001b[0maxis\u001b[0m\u001b[1;33m=\u001b[0m\u001b[1;36m1\u001b[0m\u001b[1;33m)\u001b[0m\u001b[1;33m\u001b[0m\u001b[1;33m\u001b[0m\u001b[0m\n\u001b[0m",
      "\u001b[1;32m<ipython-input-346-34bbb9fc146e>\u001b[0m in \u001b[0;36mmode_bytes\u001b[1;34m(x, y)\u001b[0m\n\u001b[0;32m      1\u001b[0m \u001b[1;32mdef\u001b[0m \u001b[0mmode_bytes\u001b[0m\u001b[1;33m(\u001b[0m\u001b[0mx\u001b[0m\u001b[1;33m,\u001b[0m \u001b[0my\u001b[0m\u001b[1;33m)\u001b[0m\u001b[1;33m:\u001b[0m\u001b[1;33m\u001b[0m\u001b[1;33m\u001b[0m\u001b[0m\n\u001b[1;32m----> 2\u001b[1;33m     \u001b[0mtempdf\u001b[0m \u001b[1;33m=\u001b[0m \u001b[0mpd\u001b[0m\u001b[1;33m.\u001b[0m\u001b[0mDataFrame\u001b[0m\u001b[1;33m(\u001b[0m\u001b[1;33m[\u001b[0m\u001b[0mx\u001b[0m\u001b[1;33m,\u001b[0m\u001b[0my\u001b[0m\u001b[1;33m]\u001b[0m\u001b[1;33m)\u001b[0m\u001b[1;33m.\u001b[0m\u001b[0mT\u001b[0m\u001b[1;33m\u001b[0m\u001b[1;33m\u001b[0m\u001b[0m\n\u001b[0m\u001b[0;32m      3\u001b[0m     \u001b[1;32mreturn\u001b[0m \u001b[0mtempdf\u001b[0m\u001b[1;33m[\u001b[0m\u001b[0mtempdf\u001b[0m \u001b[1;33m==\u001b[0m \u001b[0mtempdf\u001b[0m\u001b[1;33m.\u001b[0m\u001b[0mmode\u001b[0m\u001b[1;33m(\u001b[0m\u001b[1;33m)\u001b[0m\u001b[1;33m[\u001b[0m\u001b[1;36m0\u001b[0m\u001b[1;33m]\u001b[0m\u001b[1;33m]\u001b[0m\u001b[1;33m[\u001b[0m\u001b[1;36m1\u001b[0m\u001b[1;33m]\u001b[0m\u001b[1;33m.\u001b[0m\u001b[0msum\u001b[0m\u001b[1;33m(\u001b[0m\u001b[1;33m)\u001b[0m\u001b[1;33m\u001b[0m\u001b[1;33m\u001b[0m\u001b[0m\n\u001b[0;32m      4\u001b[0m \u001b[0mdfr\u001b[0m\u001b[1;33m.\u001b[0m\u001b[0mapply\u001b[0m\u001b[1;33m(\u001b[0m\u001b[1;32mlambda\u001b[0m \u001b[0mx\u001b[0m\u001b[1;33m:\u001b[0m \u001b[0mmode_bytes\u001b[0m\u001b[1;33m(\u001b[0m\u001b[0mx\u001b[0m\u001b[1;33m[\u001b[0m\u001b[1;34m'packet_times'\u001b[0m\u001b[1;33m]\u001b[0m\u001b[1;33m,\u001b[0m\u001b[0mx\u001b[0m\u001b[1;33m[\u001b[0m\u001b[1;34m'packet_sizes'\u001b[0m\u001b[1;33m]\u001b[0m\u001b[1;33m)\u001b[0m\u001b[1;33m,\u001b[0m\u001b[0maxis\u001b[0m\u001b[1;33m=\u001b[0m\u001b[1;36m1\u001b[0m\u001b[1;33m)\u001b[0m\u001b[1;33m\u001b[0m\u001b[1;33m\u001b[0m\u001b[0m\n",
      "\u001b[1;32m~\\.conda\\envs\\sklearn\\lib\\site-packages\\pandas\\core\\frame.py\u001b[0m in \u001b[0;36m__init__\u001b[1;34m(self, data, index, columns, dtype, copy)\u001b[0m\n\u001b[0;32m    580\u001b[0m                             \u001b[0mindex\u001b[0m \u001b[1;33m=\u001b[0m \u001b[0mibase\u001b[0m\u001b[1;33m.\u001b[0m\u001b[0mdefault_index\u001b[0m\u001b[1;33m(\u001b[0m\u001b[0mlen\u001b[0m\u001b[1;33m(\u001b[0m\u001b[0mdata\u001b[0m\u001b[1;33m)\u001b[0m\u001b[1;33m)\u001b[0m\u001b[1;33m\u001b[0m\u001b[1;33m\u001b[0m\u001b[0m\n\u001b[0;32m    581\u001b[0m \u001b[1;33m\u001b[0m\u001b[0m\n\u001b[1;32m--> 582\u001b[1;33m                     \u001b[0mmgr\u001b[0m \u001b[1;33m=\u001b[0m \u001b[0marrays_to_mgr\u001b[0m\u001b[1;33m(\u001b[0m\u001b[0marrays\u001b[0m\u001b[1;33m,\u001b[0m \u001b[0mcolumns\u001b[0m\u001b[1;33m,\u001b[0m \u001b[0mindex\u001b[0m\u001b[1;33m,\u001b[0m \u001b[0mcolumns\u001b[0m\u001b[1;33m,\u001b[0m \u001b[0mdtype\u001b[0m\u001b[1;33m=\u001b[0m\u001b[0mdtype\u001b[0m\u001b[1;33m)\u001b[0m\u001b[1;33m\u001b[0m\u001b[1;33m\u001b[0m\u001b[0m\n\u001b[0m\u001b[0;32m    583\u001b[0m                 \u001b[1;32melse\u001b[0m\u001b[1;33m:\u001b[0m\u001b[1;33m\u001b[0m\u001b[1;33m\u001b[0m\u001b[0m\n\u001b[0;32m    584\u001b[0m                     \u001b[0mmgr\u001b[0m \u001b[1;33m=\u001b[0m \u001b[0minit_ndarray\u001b[0m\u001b[1;33m(\u001b[0m\u001b[0mdata\u001b[0m\u001b[1;33m,\u001b[0m \u001b[0mindex\u001b[0m\u001b[1;33m,\u001b[0m \u001b[0mcolumns\u001b[0m\u001b[1;33m,\u001b[0m \u001b[0mdtype\u001b[0m\u001b[1;33m=\u001b[0m\u001b[0mdtype\u001b[0m\u001b[1;33m,\u001b[0m \u001b[0mcopy\u001b[0m\u001b[1;33m=\u001b[0m\u001b[0mcopy\u001b[0m\u001b[1;33m)\u001b[0m\u001b[1;33m\u001b[0m\u001b[1;33m\u001b[0m\u001b[0m\n",
      "\u001b[1;32m~\\.conda\\envs\\sklearn\\lib\\site-packages\\pandas\\core\\internals\\construction.py\u001b[0m in \u001b[0;36marrays_to_mgr\u001b[1;34m(arrays, arr_names, index, columns, dtype, verify_integrity)\u001b[0m\n\u001b[0;32m     93\u001b[0m     \u001b[0maxes\u001b[0m \u001b[1;33m=\u001b[0m \u001b[1;33m[\u001b[0m\u001b[0mcolumns\u001b[0m\u001b[1;33m,\u001b[0m \u001b[0mindex\u001b[0m\u001b[1;33m]\u001b[0m\u001b[1;33m\u001b[0m\u001b[1;33m\u001b[0m\u001b[0m\n\u001b[0;32m     94\u001b[0m \u001b[1;33m\u001b[0m\u001b[0m\n\u001b[1;32m---> 95\u001b[1;33m     \u001b[1;32mreturn\u001b[0m \u001b[0mcreate_block_manager_from_arrays\u001b[0m\u001b[1;33m(\u001b[0m\u001b[0marrays\u001b[0m\u001b[1;33m,\u001b[0m \u001b[0marr_names\u001b[0m\u001b[1;33m,\u001b[0m \u001b[0maxes\u001b[0m\u001b[1;33m)\u001b[0m\u001b[1;33m\u001b[0m\u001b[1;33m\u001b[0m\u001b[0m\n\u001b[0m\u001b[0;32m     96\u001b[0m \u001b[1;33m\u001b[0m\u001b[0m\n\u001b[0;32m     97\u001b[0m \u001b[1;33m\u001b[0m\u001b[0m\n",
      "\u001b[1;32m~\\.conda\\envs\\sklearn\\lib\\site-packages\\pandas\\core\\internals\\managers.py\u001b[0m in \u001b[0;36mcreate_block_manager_from_arrays\u001b[1;34m(arrays, names, axes)\u001b[0m\n\u001b[0;32m   1699\u001b[0m     \u001b[0marrays\u001b[0m \u001b[1;33m=\u001b[0m \u001b[1;33m[\u001b[0m\u001b[0mx\u001b[0m \u001b[1;32mif\u001b[0m \u001b[1;32mnot\u001b[0m \u001b[0misinstance\u001b[0m\u001b[1;33m(\u001b[0m\u001b[0mx\u001b[0m\u001b[1;33m,\u001b[0m \u001b[0mABCPandasArray\u001b[0m\u001b[1;33m)\u001b[0m \u001b[1;32melse\u001b[0m \u001b[0mx\u001b[0m\u001b[1;33m.\u001b[0m\u001b[0mto_numpy\u001b[0m\u001b[1;33m(\u001b[0m\u001b[1;33m)\u001b[0m \u001b[1;32mfor\u001b[0m \u001b[0mx\u001b[0m \u001b[1;32min\u001b[0m \u001b[0marrays\u001b[0m\u001b[1;33m]\u001b[0m\u001b[1;33m\u001b[0m\u001b[1;33m\u001b[0m\u001b[0m\n\u001b[0;32m   1700\u001b[0m     \u001b[1;32mtry\u001b[0m\u001b[1;33m:\u001b[0m\u001b[1;33m\u001b[0m\u001b[1;33m\u001b[0m\u001b[0m\n\u001b[1;32m-> 1701\u001b[1;33m         \u001b[0mblocks\u001b[0m \u001b[1;33m=\u001b[0m \u001b[0m_form_blocks\u001b[0m\u001b[1;33m(\u001b[0m\u001b[0marrays\u001b[0m\u001b[1;33m,\u001b[0m \u001b[0mnames\u001b[0m\u001b[1;33m,\u001b[0m \u001b[0maxes\u001b[0m\u001b[1;33m)\u001b[0m\u001b[1;33m\u001b[0m\u001b[1;33m\u001b[0m\u001b[0m\n\u001b[0m\u001b[0;32m   1702\u001b[0m         \u001b[0mmgr\u001b[0m \u001b[1;33m=\u001b[0m \u001b[0mBlockManager\u001b[0m\u001b[1;33m(\u001b[0m\u001b[0mblocks\u001b[0m\u001b[1;33m,\u001b[0m \u001b[0maxes\u001b[0m\u001b[1;33m)\u001b[0m\u001b[1;33m\u001b[0m\u001b[1;33m\u001b[0m\u001b[0m\n\u001b[0;32m   1703\u001b[0m         \u001b[0mmgr\u001b[0m\u001b[1;33m.\u001b[0m\u001b[0m_consolidate_inplace\u001b[0m\u001b[1;33m(\u001b[0m\u001b[1;33m)\u001b[0m\u001b[1;33m\u001b[0m\u001b[1;33m\u001b[0m\u001b[0m\n",
      "\u001b[1;32m~\\.conda\\envs\\sklearn\\lib\\site-packages\\pandas\\core\\internals\\managers.py\u001b[0m in \u001b[0;36m_form_blocks\u001b[1;34m(arrays, names, axes)\u001b[0m\n\u001b[0;32m   1752\u001b[0m         \u001b[0mv\u001b[0m \u001b[1;33m=\u001b[0m \u001b[0marrays\u001b[0m\u001b[1;33m[\u001b[0m\u001b[0mname_idx\u001b[0m\u001b[1;33m]\u001b[0m\u001b[1;33m\u001b[0m\u001b[1;33m\u001b[0m\u001b[0m\n\u001b[0;32m   1753\u001b[0m \u001b[1;33m\u001b[0m\u001b[0m\n\u001b[1;32m-> 1754\u001b[1;33m         \u001b[0mblock_type\u001b[0m \u001b[1;33m=\u001b[0m \u001b[0mget_block_type\u001b[0m\u001b[1;33m(\u001b[0m\u001b[0mv\u001b[0m\u001b[1;33m)\u001b[0m\u001b[1;33m\u001b[0m\u001b[1;33m\u001b[0m\u001b[0m\n\u001b[0m\u001b[0;32m   1755\u001b[0m         \u001b[0mitems_dict\u001b[0m\u001b[1;33m[\u001b[0m\u001b[0mblock_type\u001b[0m\u001b[1;33m.\u001b[0m\u001b[0m__name__\u001b[0m\u001b[1;33m]\u001b[0m\u001b[1;33m.\u001b[0m\u001b[0mappend\u001b[0m\u001b[1;33m(\u001b[0m\u001b[1;33m(\u001b[0m\u001b[0mi\u001b[0m\u001b[1;33m,\u001b[0m \u001b[0mk\u001b[0m\u001b[1;33m,\u001b[0m \u001b[0mv\u001b[0m\u001b[1;33m)\u001b[0m\u001b[1;33m)\u001b[0m\u001b[1;33m\u001b[0m\u001b[1;33m\u001b[0m\u001b[0m\n\u001b[0;32m   1756\u001b[0m \u001b[1;33m\u001b[0m\u001b[0m\n",
      "\u001b[1;32m~\\.conda\\envs\\sklearn\\lib\\site-packages\\pandas\\core\\internals\\blocks.py\u001b[0m in \u001b[0;36mget_block_type\u001b[1;34m(values, dtype)\u001b[0m\n\u001b[0;32m   2700\u001b[0m     \u001b[1;32melif\u001b[0m \u001b[0mis_interval_dtype\u001b[0m\u001b[1;33m(\u001b[0m\u001b[0mdtype\u001b[0m\u001b[1;33m)\u001b[0m \u001b[1;32mor\u001b[0m \u001b[0mis_period_dtype\u001b[0m\u001b[1;33m(\u001b[0m\u001b[0mdtype\u001b[0m\u001b[1;33m)\u001b[0m\u001b[1;33m:\u001b[0m\u001b[1;33m\u001b[0m\u001b[1;33m\u001b[0m\u001b[0m\n\u001b[0;32m   2701\u001b[0m         \u001b[0mcls\u001b[0m \u001b[1;33m=\u001b[0m \u001b[0mObjectValuesExtensionBlock\u001b[0m\u001b[1;33m\u001b[0m\u001b[1;33m\u001b[0m\u001b[0m\n\u001b[1;32m-> 2702\u001b[1;33m     \u001b[1;32melif\u001b[0m \u001b[0mis_extension_array_dtype\u001b[0m\u001b[1;33m(\u001b[0m\u001b[0mvalues\u001b[0m\u001b[1;33m.\u001b[0m\u001b[0mdtype\u001b[0m\u001b[1;33m)\u001b[0m\u001b[1;33m:\u001b[0m\u001b[1;33m\u001b[0m\u001b[1;33m\u001b[0m\u001b[0m\n\u001b[0m\u001b[0;32m   2703\u001b[0m         \u001b[1;31m# Note: need to be sure PandasArray is unwrapped before we get here\u001b[0m\u001b[1;33m\u001b[0m\u001b[1;33m\u001b[0m\u001b[1;33m\u001b[0m\u001b[0m\n\u001b[0;32m   2704\u001b[0m         \u001b[0mcls\u001b[0m \u001b[1;33m=\u001b[0m \u001b[0mExtensionBlock\u001b[0m\u001b[1;33m\u001b[0m\u001b[1;33m\u001b[0m\u001b[0m\n",
      "\u001b[1;32m~\\.conda\\envs\\sklearn\\lib\\site-packages\\pandas\\core\\dtypes\\common.py\u001b[0m in \u001b[0;36mis_extension_array_dtype\u001b[1;34m(arr_or_dtype)\u001b[0m\n\u001b[0;32m   1514\u001b[0m     \"\"\"\n\u001b[0;32m   1515\u001b[0m     \u001b[0mdtype\u001b[0m \u001b[1;33m=\u001b[0m \u001b[0mgetattr\u001b[0m\u001b[1;33m(\u001b[0m\u001b[0marr_or_dtype\u001b[0m\u001b[1;33m,\u001b[0m \u001b[1;34m\"dtype\"\u001b[0m\u001b[1;33m,\u001b[0m \u001b[0marr_or_dtype\u001b[0m\u001b[1;33m)\u001b[0m\u001b[1;33m\u001b[0m\u001b[1;33m\u001b[0m\u001b[0m\n\u001b[1;32m-> 1516\u001b[1;33m     \u001b[1;32mreturn\u001b[0m \u001b[0misinstance\u001b[0m\u001b[1;33m(\u001b[0m\u001b[0mdtype\u001b[0m\u001b[1;33m,\u001b[0m \u001b[0mExtensionDtype\u001b[0m\u001b[1;33m)\u001b[0m \u001b[1;32mor\u001b[0m \u001b[0mregistry\u001b[0m\u001b[1;33m.\u001b[0m\u001b[0mfind\u001b[0m\u001b[1;33m(\u001b[0m\u001b[0mdtype\u001b[0m\u001b[1;33m)\u001b[0m \u001b[1;32mis\u001b[0m \u001b[1;32mnot\u001b[0m \u001b[1;32mNone\u001b[0m\u001b[1;33m\u001b[0m\u001b[1;33m\u001b[0m\u001b[0m\n\u001b[0m\u001b[0;32m   1517\u001b[0m \u001b[1;33m\u001b[0m\u001b[0m\n\u001b[0;32m   1518\u001b[0m \u001b[1;33m\u001b[0m\u001b[0m\n",
      "\u001b[1;31mKeyboardInterrupt\u001b[0m: "
     ]
    }
   ],
   "source": [
    "def mode_bytes(x, y):\n",
    "    # tempdf = pd.DataFrame([x,y]).T\n",
    "    md_idx = [i for i, j in enumerate(x) if j = mode(x)]\n",
    "    return tempdf[tempdf == tempdf.mode()[0]][1].sum()\n",
    "dfr.apply(lambda x: mode_bytes(x['packet_times'],x['packet_sizes']),axis=1)"
   ]
  },
  {
   "cell_type": "code",
   "execution_count": 35,
   "metadata": {},
   "outputs": [
    {
     "data": {
      "text/plain": [
       "0                 [0, 1, 2, 3, 4, 5, 6, 7, 8, 9, 10, 11]\n",
       "1             [0, 1, 2, 3, 4, 5, 6, 7, 8, 9, 10, 11, 12]\n",
       "2      [0, 1, 2, 3, 4, 5, 6, 7, 8, 9, 10, 11, 12, 13,...\n",
       "3                   [29, 30, 31, 32, 33, 34, 35, 36, 37]\n",
       "4      [21, 22, 23, 24, 25, 26, 27, 28, 29, 30, 31, 3...\n",
       "                             ...                        \n",
       "297    [569, 570, 571, 572, 573, 574, 575, 576, 577, ...\n",
       "298    [318, 319, 320, 321, 322, 323, 324, 325, 326, ...\n",
       "299    [411, 412, 413, 414, 415, 416, 417, 418, 419, ...\n",
       "300    [1152, 1153, 1154, 1155, 1156, 1157, 1158, 115...\n",
       "301    [22, 23, 24, 25, 26, 27, 28, 29, 30, 31, 32, 3...\n",
       "Name: packet_times, Length: 302, dtype: object"
      ]
     },
     "execution_count": 35,
     "metadata": {},
     "output_type": "execute_result"
    }
   ],
   "source": [
    "dfr['packet_times'].apply(lambda x: [i for i, j in enumerate(x) if j == mode(x)[0][0]])"
   ]
  },
  {
   "cell_type": "code",
   "execution_count": null,
   "metadata": {},
   "outputs": [],
   "source": []
  },
  {
   "cell_type": "code",
   "execution_count": null,
   "metadata": {},
   "outputs": [
    {
     "data": {
      "text/plain": [
       "<AxesSubplot:>"
      ]
     },
     "execution_count": 236,
     "metadata": {},
     "output_type": "execute_result"
    },
    {
     "data": {
      "image/png": "[encoded data removed]",
      "text/plain": [
       "<Figure size 432x288 with 1 Axes>"
      ]
     },
     "metadata": {
      "needs_background": "light"
     },
     "output_type": "display_data"
    }
   ],
   "source": [
    "dfr[['max_bytes', 'total_bytes']].plot()"
   ]
  },
  {
   "cell_type": "code",
   "execution_count": null,
   "metadata": {},
   "outputs": [
    {
     "data": {
      "text/plain": [
       "<AxesSubplot:>"
      ]
     },
     "execution_count": 300,
     "metadata": {},
     "output_type": "execute_result"
    },
    {
     "data": {
      "image/png": "[encoded data removed]",
      "text/plain": [
       "<Figure size 432x288 with 1 Axes>"
      ]
     },
     "metadata": {
      "needs_background": "light"
     },
     "output_type": "display_data"
    }
   ],
   "source": [
    "dfr[dfr['max_bytes'] < 50000]['max_bytes'].plot()#(kind='hist', bins=100)"
   ]
  },
  {
   "cell_type": "code",
   "execution_count": null,
   "metadata": {},
   "outputs": [
    {
     "data": {
      "text/plain": [
       "<AxesSubplot:>"
      ]
     },
     "execution_count": 308,
     "metadata": {},
     "output_type": "execute_result"
    },
    {
     "data": {
      "image/png": "[encoded data removed]",
      "text/plain": [
       "<Figure size 432x288 with 1 Axes>"
      ]
     },
     "metadata": {
      "needs_background": "light"
     },
     "output_type": "display_data"
    }
   ],
   "source": [
    "mb = dfr[dfr['max_bytes'] < 50000]['max_bytes']\n",
    "((mb - mb.mean())/mb.std()).plot()\n",
    "tb = dfr['total_bytes']\n",
    "((tb - tb.mean())/tb.std()).plot()"
   ]
  },
  {
   "cell_type": "code",
   "execution_count": null,
   "metadata": {},
   "outputs": [
    {
     "data": {
      "text/plain": [
       "(302, 33)"
      ]
     },
     "execution_count": 318,
     "metadata": {},
     "output_type": "execute_result"
    }
   ],
   "source": [
    "dfr.shape"
   ]
  },
  {
   "cell_type": "code",
   "execution_count": null,
   "metadata": {},
   "outputs": [
    {
     "data": {
      "text/html": [
       "<div><strong>Dask DataFrame Structure:</strong></div>\n",
       "<div>\n",
       "<style scoped>\n",
       "    .dataframe tbody tr th:only-of-type {\n",
       "        vertical-align: middle;\n",
       "    }\n",
       "\n",
       "    .dataframe tbody tr th {\n",
       "        vertical-align: top;\n",
       "    }\n",
       "\n",
       "    .dataframe thead th {\n",
       "        text-align: right;\n",
       "    }\n",
       "</style>\n",
       "<table border=\"1\" class=\"dataframe\">\n",
       "  <thead>\n",
       "    <tr style=\"text-align: right;\">\n",
       "      <th></th>\n",
       "      <th>Time</th>\n",
       "      <th>IP1</th>\n",
       "      <th>Port1</th>\n",
       "      <th>IP2</th>\n",
       "      <th>Port2</th>\n",
       "      <th>Proto</th>\n",
       "      <th>1-&gt;2Bytes</th>\n",
       "      <th>2-&gt;1Bytes</th>\n",
       "      <th>1-&gt;2Pkts</th>\n",
       "      <th>2-&gt;1Pkts</th>\n",
       "      <th>packet_times</th>\n",
       "      <th>packet_sizes</th>\n",
       "      <th>packet_dirs</th>\n",
       "      <th>event</th>\n",
       "      <th>drop_unix</th>\n",
       "      <th>latency</th>\n",
       "      <th>loss</th>\n",
       "      <th>later_latency</th>\n",
       "      <th>later_loss</th>\n",
       "      <th>deterministic</th>\n",
       "      <th>total_bytes</th>\n",
       "      <th>total_pkts</th>\n",
       "      <th>pkt sum</th>\n",
       "      <th>longest_seq</th>\n",
       "      <th>mean_tdelta</th>\n",
       "      <th>max_tdelta</th>\n",
       "      <th>number_ms</th>\n",
       "      <th>max_bytes</th>\n",
       "      <th>total_pkt_sizes</th>\n",
       "      <th>pkt_ratio</th>\n",
       "      <th>time_spread</th>\n",
       "      <th>byte_ratio</th>\n",
       "      <th>prediction</th>\n",
       "    </tr>\n",
       "    <tr>\n",
       "      <th>npartitions=8</th>\n",
       "      <th></th>\n",
       "      <th></th>\n",
       "      <th></th>\n",
       "      <th></th>\n",
       "      <th></th>\n",
       "      <th></th>\n",
       "      <th></th>\n",
       "      <th></th>\n",
       "      <th></th>\n",
       "      <th></th>\n",
       "      <th></th>\n",
       "      <th></th>\n",
       "      <th></th>\n",
       "      <th></th>\n",
       "      <th></th>\n",
       "      <th></th>\n",
       "      <th></th>\n",
       "      <th></th>\n",
       "      <th></th>\n",
       "      <th></th>\n",
       "      <th></th>\n",
       "      <th></th>\n",
       "      <th></th>\n",
       "      <th></th>\n",
       "      <th></th>\n",
       "      <th></th>\n",
       "      <th></th>\n",
       "      <th></th>\n",
       "      <th></th>\n",
       "      <th></th>\n",
       "      <th></th>\n",
       "      <th></th>\n",
       "      <th></th>\n",
       "    </tr>\n",
       "  </thead>\n",
       "  <tbody>\n",
       "    <tr>\n",
       "      <th>0</th>\n",
       "      <td>int64</td>\n",
       "      <td>object</td>\n",
       "      <td>int64</td>\n",
       "      <td>object</td>\n",
       "      <td>int64</td>\n",
       "      <td>int64</td>\n",
       "      <td>int64</td>\n",
       "      <td>int64</td>\n",
       "      <td>int64</td>\n",
       "      <td>int64</td>\n",
       "      <td>object</td>\n",
       "      <td>object</td>\n",
       "      <td>object</td>\n",
       "      <td>object</td>\n",
       "      <td>object</td>\n",
       "      <td>int64</td>\n",
       "      <td>int64</td>\n",
       "      <td>int64</td>\n",
       "      <td>int64</td>\n",
       "      <td>bool</td>\n",
       "      <td>int64</td>\n",
       "      <td>int64</td>\n",
       "      <td>int64</td>\n",
       "      <td>int64</td>\n",
       "      <td>float64</td>\n",
       "      <td>int64</td>\n",
       "      <td>int64</td>\n",
       "      <td>int64</td>\n",
       "      <td>int64</td>\n",
       "      <td>float64</td>\n",
       "      <td>int64</td>\n",
       "      <td>float64</td>\n",
       "      <td>float64</td>\n",
       "    </tr>\n",
       "    <tr>\n",
       "      <th>38</th>\n",
       "      <td>...</td>\n",
       "      <td>...</td>\n",
       "      <td>...</td>\n",
       "      <td>...</td>\n",
       "      <td>...</td>\n",
       "      <td>...</td>\n",
       "      <td>...</td>\n",
       "      <td>...</td>\n",
       "      <td>...</td>\n",
       "      <td>...</td>\n",
       "      <td>...</td>\n",
       "      <td>...</td>\n",
       "      <td>...</td>\n",
       "      <td>...</td>\n",
       "      <td>...</td>\n",
       "      <td>...</td>\n",
       "      <td>...</td>\n",
       "      <td>...</td>\n",
       "      <td>...</td>\n",
       "      <td>...</td>\n",
       "      <td>...</td>\n",
       "      <td>...</td>\n",
       "      <td>...</td>\n",
       "      <td>...</td>\n",
       "      <td>...</td>\n",
       "      <td>...</td>\n",
       "      <td>...</td>\n",
       "      <td>...</td>\n",
       "      <td>...</td>\n",
       "      <td>...</td>\n",
       "      <td>...</td>\n",
       "      <td>...</td>\n",
       "      <td>...</td>\n",
       "    </tr>\n",
       "    <tr>\n",
       "      <th>...</th>\n",
       "      <td>...</td>\n",
       "      <td>...</td>\n",
       "      <td>...</td>\n",
       "      <td>...</td>\n",
       "      <td>...</td>\n",
       "      <td>...</td>\n",
       "      <td>...</td>\n",
       "      <td>...</td>\n",
       "      <td>...</td>\n",
       "      <td>...</td>\n",
       "      <td>...</td>\n",
       "      <td>...</td>\n",
       "      <td>...</td>\n",
       "      <td>...</td>\n",
       "      <td>...</td>\n",
       "      <td>...</td>\n",
       "      <td>...</td>\n",
       "      <td>...</td>\n",
       "      <td>...</td>\n",
       "      <td>...</td>\n",
       "      <td>...</td>\n",
       "      <td>...</td>\n",
       "      <td>...</td>\n",
       "      <td>...</td>\n",
       "      <td>...</td>\n",
       "      <td>...</td>\n",
       "      <td>...</td>\n",
       "      <td>...</td>\n",
       "      <td>...</td>\n",
       "      <td>...</td>\n",
       "      <td>...</td>\n",
       "      <td>...</td>\n",
       "      <td>...</td>\n",
       "    </tr>\n",
       "    <tr>\n",
       "      <th>266</th>\n",
       "      <td>...</td>\n",
       "      <td>...</td>\n",
       "      <td>...</td>\n",
       "      <td>...</td>\n",
       "      <td>...</td>\n",
       "      <td>...</td>\n",
       "      <td>...</td>\n",
       "      <td>...</td>\n",
       "      <td>...</td>\n",
       "      <td>...</td>\n",
       "      <td>...</td>\n",
       "      <td>...</td>\n",
       "      <td>...</td>\n",
       "      <td>...</td>\n",
       "      <td>...</td>\n",
       "      <td>...</td>\n",
       "      <td>...</td>\n",
       "      <td>...</td>\n",
       "      <td>...</td>\n",
       "      <td>...</td>\n",
       "      <td>...</td>\n",
       "      <td>...</td>\n",
       "      <td>...</td>\n",
       "      <td>...</td>\n",
       "      <td>...</td>\n",
       "      <td>...</td>\n",
       "      <td>...</td>\n",
       "      <td>...</td>\n",
       "      <td>...</td>\n",
       "      <td>...</td>\n",
       "      <td>...</td>\n",
       "      <td>...</td>\n",
       "      <td>...</td>\n",
       "    </tr>\n",
       "    <tr>\n",
       "      <th>301</th>\n",
       "      <td>...</td>\n",
       "      <td>...</td>\n",
       "      <td>...</td>\n",
       "      <td>...</td>\n",
       "      <td>...</td>\n",
       "      <td>...</td>\n",
       "      <td>...</td>\n",
       "      <td>...</td>\n",
       "      <td>...</td>\n",
       "      <td>...</td>\n",
       "      <td>...</td>\n",
       "      <td>...</td>\n",
       "      <td>...</td>\n",
       "      <td>...</td>\n",
       "      <td>...</td>\n",
       "      <td>...</td>\n",
       "      <td>...</td>\n",
       "      <td>...</td>\n",
       "      <td>...</td>\n",
       "      <td>...</td>\n",
       "      <td>...</td>\n",
       "      <td>...</td>\n",
       "      <td>...</td>\n",
       "      <td>...</td>\n",
       "      <td>...</td>\n",
       "      <td>...</td>\n",
       "      <td>...</td>\n",
       "      <td>...</td>\n",
       "      <td>...</td>\n",
       "      <td>...</td>\n",
       "      <td>...</td>\n",
       "      <td>...</td>\n",
       "      <td>...</td>\n",
       "    </tr>\n",
       "  </tbody>\n",
       "</table>\n",
       "</div>\n",
       "<div>Dask Name: from_pandas, 8 tasks</div>"
      ],
      "text/plain": [
       "Dask DataFrame Structure:\n",
       "                Time     IP1  Port1     IP2  Port2  Proto 1->2Bytes 2->1Bytes 1->2Pkts 2->1Pkts packet_times packet_sizes packet_dirs   event drop_unix latency   loss later_latency later_loss deterministic total_bytes total_pkts pkt sum longest_seq mean_tdelta max_tdelta number_ms max_bytes total_pkt_sizes pkt_ratio time_spread byte_ratio prediction\n",
       "npartitions=8                                                                                                                                                                                                                                                                                                                                                  \n",
       "0              int64  object  int64  object  int64  int64     int64     int64    int64    int64       object       object      object  object    object   int64  int64         int64      int64          bool       int64      int64   int64       int64     float64      int64     int64     int64           int64   float64       int64    float64    float64\n",
       "38               ...     ...    ...     ...    ...    ...       ...       ...      ...      ...          ...          ...         ...     ...       ...     ...    ...           ...        ...           ...         ...        ...     ...         ...         ...        ...       ...       ...             ...       ...         ...        ...        ...\n",
       "...              ...     ...    ...     ...    ...    ...       ...       ...      ...      ...          ...          ...         ...     ...       ...     ...    ...           ...        ...           ...         ...        ...     ...         ...         ...        ...       ...       ...             ...       ...         ...        ...        ...\n",
       "266              ...     ...    ...     ...    ...    ...       ...       ...      ...      ...          ...          ...         ...     ...       ...     ...    ...           ...        ...           ...         ...        ...     ...         ...         ...        ...       ...       ...             ...       ...         ...        ...        ...\n",
       "301              ...     ...    ...     ...    ...    ...       ...       ...      ...      ...          ...          ...         ...     ...       ...     ...    ...           ...        ...           ...         ...        ...     ...         ...         ...        ...       ...       ...             ...       ...         ...        ...        ...\n",
       "Dask Name: from_pandas, 8 tasks"
      ]
     },
     "execution_count": 323,
     "metadata": {},
     "output_type": "execute_result"
    }
   ],
   "source": [
    "# ddf = dd.from_pandas(dfr, npartitions=8)\n",
    "# ddf\n",
    "# ddf.apply(lambda x: max_bytes(x['packet_times'],x['packet_sizes']),axis=1).compute()"
   ]
  },
  {
   "cell_type": "code",
   "execution_count": 76,
   "metadata": {},
   "outputs": [
    {
     "data": {
      "image/png": "[encoded data removed]",
      "text/plain": [
       "<Figure size 1008x576 with 2 Axes>"
      ]
     },
     "metadata": {
      "needs_background": "light"
     },
     "output_type": "display_data"
    }
   ],
   "source": [
    "\n",
    "## PLOTTING\n",
    "fig, ax = plt.subplots(2, sharex=True,figsize=(14,8))\n",
    "    # fig, ax = plt.figure(figsize=(14,8))\n",
    "    \n",
    "def emp_loss(df, window=20):\n",
    "    return (df['total_pkts'].rolling(window).sum() / \n",
    "        df['event'].str.replace('switch', '').str.split(';').str.len().fillna(0).rolling(window).sum())\n",
    "\n",
    "ax[1].plot(emp_loss(dfr, windowsize))\n",
    "\n",
    "emploss15s = (df['total_pkts'].rolling(15).sum().astype(np.double) / \n",
    "    df['event'].str.replace('switch', '').str.split(';').str.len().fillna(0).rolling(15).sum().astype(np.double))#.ffill()\n",
    "# ax[1].plot(emploss20s)\n",
    "# ax[1].plot(emploss15s)\n",
    "ax[1].plot(dfr[['loss', 'later_loss', 'prediction']])\n",
    "ax[0].plot(dfr[['2->1Pkts']], color='purple')\n",
    "ax[0].axvline(x=shift_time, color='r')\n",
    "ax[1].axvline(x=shift_time, color='r')\n",
    "ax[0].set_title('2->1 Packets')\n",
    "ax[1].set_title('Real Time Prediction on the Last 10 seconds of Loss (Green)')\n",
    "ax[1].set_xlabel('Time (sec)')\n",
    "ax[0].set_ylabel('Packet Count')\n",
    "ax[1].set_ylabel('Packet Loss Ratio')\n",
    "ax[1].legend(['Empirical Loss (over )','Early loss label', 'Later loss label', 'Prediction'], loc='upper left')\n",
    "for i in dfr[~dfr['event'].isnull()].index:\n",
    "    ax[0].axvline(x=i, color='y', alpha=.45)\n",
    "    ax[1].axvline(x=i, color='y', alpha=.45)"
   ]
  },
  {
   "cell_type": "code",
   "execution_count": 110,
   "metadata": {},
   "outputs": [
    {
     "name": "stdout",
     "output_type": "stream",
     "text": [
      "100\n"
     ]
    },
    {
     "data": {
      "image/png": "[encoded data removed]",
      "text/plain": [
       "<Figure size 1008x432 with 1 Axes>"
      ]
     },
     "metadata": {
      "needs_background": "light"
     },
     "output_type": "display_data"
    }
   ],
   "source": [
    "def plot_model_predictions(df, label='loss', windowsize=25, shift_time=180):\n",
    "    '''requires a dataframe merged with with losslog data, plots its shifttime'''\n",
    "\n",
    "    df = df.copy()\n",
    "    if(label=='loss'):\n",
    "        # latency features\n",
    "        indexcol = ['byte_ratio', 'pkt_ratio', 'time_spread', 'total_bytes', '2->1Pkts']\n",
    "    else:\n",
    "        # loss features\n",
    "        indexcol = ['total_pkts', 'total_pkt_sizes', '2->1Bytes', 'number_ms', 'mean_tdelta', 'max_tdelta'] \n",
    "        \n",
    "    # print(len(indexcol),df[[x for x in indexcol if x in df.columns]])\n",
    "    ct = pd.read_csv('outputs/combined_transform.csv').rename(\n",
    "    {'mean_tdelta.1': 'mean_tdelta_amin', 'mean_tdelta.2':'mean_tdelta_amax'}, \n",
    "    axis=1)\n",
    "\n",
    "    X_train, X_test, y_train, y_test = train_test_split(\n",
    "        ct[[x for x in indexcol if x in df.columns]], ct[label_col])\n",
    "    # print(X_train.shape, X_test.shape, y_train.shape, y_test.shape)\n",
    "    etree = RandomForestRegressor(n_estimators=100, n_jobs=4)\n",
    "    etreeft = etree.fit(X_train,y_train)\n",
    "\n",
    "    df['prediction'] = etree.predict(df[indexcol].rolling(10).mean().bfill()) # prediction\n",
    "\n",
    "    # fig = plt.figure()\n",
    "    print(df[label].values[0])\n",
    "    def emp_loss(df, window=25):\n",
    "        '''returns empirical loss over a window of time.'''\n",
    "        return (df['total_pkts'].rolling(window).sum() / \n",
    "            df['event'].str.replace('switch', '').str.split(';').str.len().fillna(0).rolling(window).sum())\n",
    "\n",
    "\n",
    "    df[['loss', f'later_{label}', 'prediction']].plot()\n",
    "    emp_loss(dfr, windowsize).plot(figsize=(14,6), title=f'Real Time Prediction on {label}', xlabel='Time (sec)', ylabel='Packet Loss Ratio')\n",
    "    plt.axvline(x=shift_time, color='r')\n",
    "\n",
    "    plt.legend([\n",
    "        'Early loss label', \n",
    "        'Later loss label', \n",
    "        'Prediction',\n",
    "        f'Empirical Loss (window {windowsize} sec)',\n",
    "        'Anomalous switch event'\n",
    "        ], loc='center left')\n",
    "    for i in df[~df['event'].isnull()].index:\n",
    "        plt.axvline(x=i, color='y', alpha=.45)\n",
    "    path = os.path.join(os.getcwd() , \"outputs\")\n",
    "    saveto = os.path.join(path, \"eda\",f'{label}_model_preds.png')\n",
    "    plt.savefig(saveto)\n",
    "plot_model_predictions(dfr, shift_time=200)"
   ]
  },
  {
   "cell_type": "code",
   "execution_count": 96,
   "metadata": {},
   "outputs": [
    {
     "ename": "KeyError",
     "evalue": "'later_label'",
     "output_type": "error",
     "traceback": [
      "\u001b[1;31m---------------------------------------------------------------------------\u001b[0m",
      "\u001b[1;31mKeyError\u001b[0m                                  Traceback (most recent call last)",
      "\u001b[1;32m~\\.conda\\envs\\sklearn\\lib\\site-packages\\pandas\\core\\indexes\\base.py\u001b[0m in \u001b[0;36mget_loc\u001b[1;34m(self, key, method, tolerance)\u001b[0m\n\u001b[0;32m   3079\u001b[0m             \u001b[1;32mtry\u001b[0m\u001b[1;33m:\u001b[0m\u001b[1;33m\u001b[0m\u001b[1;33m\u001b[0m\u001b[0m\n\u001b[1;32m-> 3080\u001b[1;33m                 \u001b[1;32mreturn\u001b[0m \u001b[0mself\u001b[0m\u001b[1;33m.\u001b[0m\u001b[0m_engine\u001b[0m\u001b[1;33m.\u001b[0m\u001b[0mget_loc\u001b[0m\u001b[1;33m(\u001b[0m\u001b[0mcasted_key\u001b[0m\u001b[1;33m)\u001b[0m\u001b[1;33m\u001b[0m\u001b[1;33m\u001b[0m\u001b[0m\n\u001b[0m\u001b[0;32m   3081\u001b[0m             \u001b[1;32mexcept\u001b[0m \u001b[0mKeyError\u001b[0m \u001b[1;32mas\u001b[0m \u001b[0merr\u001b[0m\u001b[1;33m:\u001b[0m\u001b[1;33m\u001b[0m\u001b[1;33m\u001b[0m\u001b[0m\n",
      "\u001b[1;32mpandas\\_libs\\index.pyx\u001b[0m in \u001b[0;36mpandas._libs.index.IndexEngine.get_loc\u001b[1;34m()\u001b[0m\n",
      "\u001b[1;32mpandas\\_libs\\index.pyx\u001b[0m in \u001b[0;36mpandas._libs.index.IndexEngine.get_loc\u001b[1;34m()\u001b[0m\n",
      "\u001b[1;32mpandas\\_libs\\hashtable_class_helper.pxi\u001b[0m in \u001b[0;36mpandas._libs.hashtable.PyObjectHashTable.get_item\u001b[1;34m()\u001b[0m\n",
      "\u001b[1;32mpandas\\_libs\\hashtable_class_helper.pxi\u001b[0m in \u001b[0;36mpandas._libs.hashtable.PyObjectHashTable.get_item\u001b[1;34m()\u001b[0m\n",
      "\u001b[1;31mKeyError\u001b[0m: 'later_label'",
      "\nThe above exception was the direct cause of the following exception:\n",
      "\u001b[1;31mKeyError\u001b[0m                                  Traceback (most recent call last)",
      "\u001b[1;32m<ipython-input-96-d4272fd187ae>\u001b[0m in \u001b[0;36m<module>\u001b[1;34m\u001b[0m\n\u001b[1;32m----> 1\u001b[1;33m \u001b[0mdf\u001b[0m\u001b[1;33m[\u001b[0m\u001b[1;34m'later_label'\u001b[0m\u001b[1;33m]\u001b[0m\u001b[1;33m\u001b[0m\u001b[1;33m\u001b[0m\u001b[0m\n\u001b[0m",
      "\u001b[1;32m~\\.conda\\envs\\sklearn\\lib\\site-packages\\pandas\\core\\frame.py\u001b[0m in \u001b[0;36m__getitem__\u001b[1;34m(self, key)\u001b[0m\n\u001b[0;32m   3022\u001b[0m             \u001b[1;32mif\u001b[0m \u001b[0mself\u001b[0m\u001b[1;33m.\u001b[0m\u001b[0mcolumns\u001b[0m\u001b[1;33m.\u001b[0m\u001b[0mnlevels\u001b[0m \u001b[1;33m>\u001b[0m \u001b[1;36m1\u001b[0m\u001b[1;33m:\u001b[0m\u001b[1;33m\u001b[0m\u001b[1;33m\u001b[0m\u001b[0m\n\u001b[0;32m   3023\u001b[0m                 \u001b[1;32mreturn\u001b[0m \u001b[0mself\u001b[0m\u001b[1;33m.\u001b[0m\u001b[0m_getitem_multilevel\u001b[0m\u001b[1;33m(\u001b[0m\u001b[0mkey\u001b[0m\u001b[1;33m)\u001b[0m\u001b[1;33m\u001b[0m\u001b[1;33m\u001b[0m\u001b[0m\n\u001b[1;32m-> 3024\u001b[1;33m             \u001b[0mindexer\u001b[0m \u001b[1;33m=\u001b[0m \u001b[0mself\u001b[0m\u001b[1;33m.\u001b[0m\u001b[0mcolumns\u001b[0m\u001b[1;33m.\u001b[0m\u001b[0mget_loc\u001b[0m\u001b[1;33m(\u001b[0m\u001b[0mkey\u001b[0m\u001b[1;33m)\u001b[0m\u001b[1;33m\u001b[0m\u001b[1;33m\u001b[0m\u001b[0m\n\u001b[0m\u001b[0;32m   3025\u001b[0m             \u001b[1;32mif\u001b[0m \u001b[0mis_integer\u001b[0m\u001b[1;33m(\u001b[0m\u001b[0mindexer\u001b[0m\u001b[1;33m)\u001b[0m\u001b[1;33m:\u001b[0m\u001b[1;33m\u001b[0m\u001b[1;33m\u001b[0m\u001b[0m\n\u001b[0;32m   3026\u001b[0m                 \u001b[0mindexer\u001b[0m \u001b[1;33m=\u001b[0m \u001b[1;33m[\u001b[0m\u001b[0mindexer\u001b[0m\u001b[1;33m]\u001b[0m\u001b[1;33m\u001b[0m\u001b[1;33m\u001b[0m\u001b[0m\n",
      "\u001b[1;32m~\\.conda\\envs\\sklearn\\lib\\site-packages\\pandas\\core\\indexes\\base.py\u001b[0m in \u001b[0;36mget_loc\u001b[1;34m(self, key, method, tolerance)\u001b[0m\n\u001b[0;32m   3080\u001b[0m                 \u001b[1;32mreturn\u001b[0m \u001b[0mself\u001b[0m\u001b[1;33m.\u001b[0m\u001b[0m_engine\u001b[0m\u001b[1;33m.\u001b[0m\u001b[0mget_loc\u001b[0m\u001b[1;33m(\u001b[0m\u001b[0mcasted_key\u001b[0m\u001b[1;33m)\u001b[0m\u001b[1;33m\u001b[0m\u001b[1;33m\u001b[0m\u001b[0m\n\u001b[0;32m   3081\u001b[0m             \u001b[1;32mexcept\u001b[0m \u001b[0mKeyError\u001b[0m \u001b[1;32mas\u001b[0m \u001b[0merr\u001b[0m\u001b[1;33m:\u001b[0m\u001b[1;33m\u001b[0m\u001b[1;33m\u001b[0m\u001b[0m\n\u001b[1;32m-> 3082\u001b[1;33m                 \u001b[1;32mraise\u001b[0m \u001b[0mKeyError\u001b[0m\u001b[1;33m(\u001b[0m\u001b[0mkey\u001b[0m\u001b[1;33m)\u001b[0m \u001b[1;32mfrom\u001b[0m \u001b[0merr\u001b[0m\u001b[1;33m\u001b[0m\u001b[1;33m\u001b[0m\u001b[0m\n\u001b[0m\u001b[0;32m   3083\u001b[0m \u001b[1;33m\u001b[0m\u001b[0m\n\u001b[0;32m   3084\u001b[0m         \u001b[1;32mif\u001b[0m \u001b[0mtolerance\u001b[0m \u001b[1;32mis\u001b[0m \u001b[1;32mnot\u001b[0m \u001b[1;32mNone\u001b[0m\u001b[1;33m:\u001b[0m\u001b[1;33m\u001b[0m\u001b[1;33m\u001b[0m\u001b[0m\n",
      "\u001b[1;31mKeyError\u001b[0m: 'later_label'"
     ]
    }
   ],
   "source": [
    "df['later_label']"
   ]
  },
  {
   "cell_type": "code",
   "execution_count": null,
   "metadata": {},
   "outputs": [
    {
     "data": {
      "text/plain": [
       "array(['drop', nan, 'drop;drop', 'drop;drop;drop'], dtype=object)"
      ]
     },
     "execution_count": 152,
     "metadata": {},
     "output_type": "execute_result"
    }
   ],
   "source": [
    "df['event'].unique()"
   ]
  },
  {
   "cell_type": "code",
   "execution_count": null,
   "metadata": {},
   "outputs": [
    {
     "data": {
      "text/plain": [
       "Index(['Time', 'IP1', 'Port1', 'IP2', 'Port2', 'Proto', '1->2Bytes',\n",
       "       '2->1Bytes', '1->2Pkts', '2->1Pkts', 'packet_times', 'packet_sizes',\n",
       "       'packet_dirs', 'event', 'drop_unix', 'latency', 'loss', 'later_latency',\n",
       "       'later_loss', 'deterministic', 'total_bytes', 'total_pkts', 'pkt sum',\n",
       "       'longest_seq', 'mean_tdelta', 'max_tdelta', 'number_ms', 'max_bytes',\n",
       "       'total_pkt_sizes', 'pkt_ratio', 'time_spread', 'byte_ratio'],\n",
       "      dtype='object')"
      ]
     },
     "execution_count": 159,
     "metadata": {},
     "output_type": "execute_result"
    }
   ],
   "source": [
    "df.columns"
   ]
  },
  {
   "cell_type": "code",
   "execution_count": null,
   "metadata": {},
   "outputs": [
    {
     "data": {
      "text/plain": [
       "<AxesSubplot:>"
      ]
     },
     "execution_count": 209,
     "metadata": {},
     "output_type": "execute_result"
    },
    {
     "data": {
      "image/png": "[encoded data removed]",
      "text/plain": [
       "<Figure size 1080x504 with 1 Axes>"
      ]
     },
     "metadata": {
      "needs_background": "light"
     },
     "output_type": "display_data"
    }
   ],
   "source": [
    "emploss30s = (df['total_pkts'].rolling(30).sum().astype(np.double) / \n",
    "    df['event'].str.replace('switch', '').str.split(';').str.len().fillna(0).rolling(30).sum().astype(np.double))#.ffill()\n",
    "emploss30s[(emploss10s < 20000) & (emploss30s != np.nan)].plot(figsize=(15,7))#(kind='hist', figsize=(15,7), bins=40)"
   ]
  },
  {
   "cell_type": "code",
   "execution_count": 41,
   "metadata": {},
   "outputs": [
    {
     "data": {
      "text/plain": [
       "<AxesSubplot:ylabel='Frequency'>"
      ]
     },
     "execution_count": 41,
     "metadata": {},
     "output_type": "execute_result"
    },
    {
     "data": {
      "image/png": "[encoded data removed]",
      "text/plain": [
       "<Figure size 1080x504 with 1 Axes>"
      ]
     },
     "metadata": {
      "needs_background": "light"
     },
     "output_type": "display_data"
    }
   ],
   "source": [
    "emploss20s = (df['total_pkts'].rolling(20).sum() / \n",
    "    df['event'].str.replace('switch', '').str.split(';').str.len().fillna(0).rolling(20).sum())#.ffill()\n",
    "emploss20s[(emploss20s < 20000) & (emploss20s != np.nan)].plot(kind='hist', figsize=(15,7), logx=True, bins=40)\n",
    "\n"
   ]
  },
  {
   "cell_type": "code",
   "execution_count": null,
   "metadata": {},
   "outputs": [
    {
     "data": {
      "text/plain": [
       "<AxesSubplot:>"
      ]
     },
     "execution_count": 182,
     "metadata": {},
     "output_type": "execute_result"
    },
    {
     "data": {
      "image/png": "[encoded data removed]",
      "text/plain": [
       "<Figure size 1080x504 with 1 Axes>"
      ]
     },
     "metadata": {
      "needs_background": "light"
     },
     "output_type": "display_data"
    }
   ],
   "source": [
    "emploss20s[(emploss20s < 500) & (emploss20s != np.nan) & (emploss20s != 0)].hist(figsize=(15,7), bins=40)"
   ]
  },
  {
   "cell_type": "code",
   "execution_count": null,
   "metadata": {},
   "outputs": [
    {
     "data": {
      "text/plain": [
       "<AxesSubplot:>"
      ]
     },
     "execution_count": 187,
     "metadata": {},
     "output_type": "execute_result"
    },
    {
     "data": {
      "image/png": "[encoded data removed]",
      "text/plain": [
       "<Figure size 1080x504 with 1 Axes>"
      ]
     },
     "metadata": {
      "needs_background": "light"
     },
     "output_type": "display_data"
    }
   ],
   "source": []
  },
  {
   "cell_type": "markdown",
   "metadata": {},
   "source": [
    "- empirical loss, maybe we can plot that\n",
    "- maybe split timedelta directionally\n",
    "- byte ratio is a good feature yep, same with packet ratio\n",
    "- PCA funkyyyyyyyy\n"
   ]
  },
  {
   "cell_type": "markdown",
   "metadata": {},
   "source": [
    "which approach to continue with?\n",
    "forecasting, clustering\n",
    "\n",
    "arima: an hour of dane "
   ]
  },
  {
   "cell_type": "code",
   "execution_count": null,
   "metadata": {},
   "outputs": [
    {
     "data": {
      "text/plain": [
       "array(['drop', 'drop;drop', 'drop;drop;drop', 'switch'], dtype=object)"
      ]
     },
     "execution_count": 200,
     "metadata": {},
     "output_type": "execute_result"
    }
   ],
   "source": [
    "filename='data/jennawk5data/20220201T010740_200-100-true-200-10000-200-iperf.csv'\n",
    "losslog_dir = 'data/jennawk5data'\n",
    "run_labels = filename.split('_')[-1].split('-')[:-1]\n",
    "temp_label_str = '-'.join(run_labels) \n",
    "losslog = f'{losslog_dir}/losslog-{temp_label_str}.csv' #losslog filename str\n",
    "\n",
    "run_df = pd.read_csv(filename)\n",
    "losslog_df = pd.read_csv(losslog, header=None).rename(\n",
    "    columns={0:'event', 1:'drop_unix', 2:'IP1', 3:'Port1', 4:'IP2', 5:'Port2', 6:'Proto'}).fillna(-1)\n",
    "losslog_df['Time'] = losslog_df['drop_unix'].astype(int)\n",
    "grouped = losslog_df.groupby(['Time', 'IP1', 'Port1', 'IP2', 'Port2', 'Proto']\n",
    "                             ).agg(lambda x: ';'.join(x.astype(str)) if len(x) > 1 else x.astype(str)).reset_index()\n",
    "grouped['event'].unique()\n"
   ]
  },
  {
   "cell_type": "markdown",
   "metadata": {},
   "source": [
    "## fix groupby and the join method in the actual readfilerun function"
   ]
  },
  {
   "cell_type": "code",
   "execution_count": null,
   "metadata": {},
   "outputs": [
    {
     "data": {
      "text/html": [
       "<div>\n",
       "<style scoped>\n",
       "    .dataframe tbody tr th:only-of-type {\n",
       "        vertical-align: middle;\n",
       "    }\n",
       "\n",
       "    .dataframe tbody tr th {\n",
       "        vertical-align: top;\n",
       "    }\n",
       "\n",
       "    .dataframe thead th {\n",
       "        text-align: right;\n",
       "    }\n",
       "</style>\n",
       "<table border=\"1\" class=\"dataframe\">\n",
       "  <thead>\n",
       "    <tr style=\"text-align: right;\">\n",
       "      <th></th>\n",
       "      <th>Time</th>\n",
       "      <th>IP1</th>\n",
       "      <th>Port1</th>\n",
       "      <th>IP2</th>\n",
       "      <th>Port2</th>\n",
       "      <th>Proto</th>\n",
       "      <th>1-&gt;2Bytes</th>\n",
       "      <th>2-&gt;1Bytes</th>\n",
       "      <th>1-&gt;2Pkts</th>\n",
       "      <th>2-&gt;1Pkts</th>\n",
       "      <th>packet_times</th>\n",
       "      <th>packet_sizes</th>\n",
       "      <th>packet_dirs</th>\n",
       "    </tr>\n",
       "  </thead>\n",
       "  <tbody>\n",
       "    <tr>\n",
       "      <th>200</th>\n",
       "      <td>1643677855</td>\n",
       "      <td>192.168.96.3</td>\n",
       "      <td>47330</td>\n",
       "      <td>192.168.48.2</td>\n",
       "      <td>5001</td>\n",
       "      <td>6</td>\n",
       "      <td>97500</td>\n",
       "      <td>1460</td>\n",
       "      <td>65</td>\n",
       "      <td>26</td>\n",
       "      <td>1643677855044;1643677855044;1643677855044;1643...</td>\n",
       "      <td>52;1500;1500;52;1500;1500;52;1500;1500;1500;15...</td>\n",
       "      <td>2;1;1;2;1;1;2;1;1;1;1;1;1;2;1;1;2;1;1;2;1;1;1;...</td>\n",
       "    </tr>\n",
       "  </tbody>\n",
       "</table>\n",
       "</div>"
      ],
      "text/plain": [
       "           Time           IP1  Port1           IP2  Port2  Proto  1->2Bytes  \\\n",
       "200  1643677855  192.168.96.3  47330  192.168.48.2   5001      6      97500   \n",
       "\n",
       "     2->1Bytes  1->2Pkts  2->1Pkts  \\\n",
       "200       1460        65        26   \n",
       "\n",
       "                                          packet_times  \\\n",
       "200  1643677855044;1643677855044;1643677855044;1643...   \n",
       "\n",
       "                                          packet_sizes  \\\n",
       "200  52;1500;1500;52;1500;1500;52;1500;1500;1500;15...   \n",
       "\n",
       "                                           packet_dirs  \n",
       "200  2;1;1;2;1;1;2;1;1;1;1;1;1;2;1;1;2;1;1;2;1;1;1;...  "
      ]
     },
     "execution_count": 119,
     "metadata": {},
     "output_type": "execute_result"
    }
   ],
   "source": [
    "run_df[run_df['Time'] == 1643677855]"
   ]
  },
  {
   "cell_type": "code",
   "execution_count": 42,
   "metadata": {},
   "outputs": [],
   "source": [
    "dfr['emp_loss'] = emploss20s"
   ]
  },
  {
   "cell_type": "code",
   "execution_count": 46,
   "metadata": {},
   "outputs": [
    {
     "data": {
      "text/plain": [
       "0        88.821429\n",
       "1        88.821429\n",
       "2        88.821429\n",
       "3        88.821429\n",
       "4        88.821429\n",
       "          ...     \n",
       "297    1665.166667\n",
       "298    1228.666667\n",
       "299    6587.000000\n",
       "300    3046.000000\n",
       "301    4293.000000\n",
       "Length: 302, dtype: float64"
      ]
     },
     "execution_count": 46,
     "metadata": {},
     "output_type": "execute_result"
    }
   ],
   "source": [
    "(dfr['emp_loss'].bfill() - dfr['prediction'])"
   ]
  },
  {
   "cell_type": "code",
   "execution_count": 53,
   "metadata": {},
   "outputs": [
    {
     "data": {
      "text/plain": [
       "<AxesSubplot:>"
      ]
     },
     "execution_count": 53,
     "metadata": {},
     "output_type": "execute_result"
    },
    {
     "data": {
      "image/png": "[encoded data removed]",
      "text/plain": [
       "<Figure size 432x288 with 1 Axes>"
      ]
     },
     "metadata": {
      "needs_background": "light"
     },
     "output_type": "display_data"
    }
   ],
   "source": []
  },
  {
   "cell_type": "code",
   "execution_count": 55,
   "metadata": {},
   "outputs": [
    {
     "data": {
      "text/plain": [
       "Index(['Time', 'IP1', 'Port1', 'IP2', 'Port2', 'Proto', '1->2Bytes',\n",
       "       '2->1Bytes', '1->2Pkts', '2->1Pkts', 'packet_times', 'packet_sizes',\n",
       "       'packet_dirs', 'event', 'drop_unix', 'latency', 'loss', 'later_latency',\n",
       "       'later_loss', 'deterministic', 'total_bytes', 'total_pkts', 'pkt sum',\n",
       "       'longest_seq', 'mean_tdelta', 'max_tdelta', 'number_ms', 'max_bytes',\n",
       "       'total_pkt_sizes', 'pkt_ratio', 'time_spread', 'byte_ratio'],\n",
       "      dtype='object')"
      ]
     },
     "execution_count": 55,
     "metadata": {},
     "output_type": "execute_result"
    }
   ],
   "source": [
    "df.columns"
   ]
  },
  {
   "cell_type": "code",
   "execution_count": 56,
   "metadata": {},
   "outputs": [
    {
     "data": {
      "text/plain": [
       "array(['drop', nan, 'drop;drop', 'drop;drop;drop'], dtype=object)"
      ]
     },
     "execution_count": 56,
     "metadata": {},
     "output_type": "execute_result"
    }
   ],
   "source": [
    "df['event'].unique()"
   ]
  },
  {
   "cell_type": "code",
   "execution_count": 1,
   "metadata": {},
   "outputs": [
    {
     "data": {
      "text/plain": [
       "[0, 1, 2, 3]"
      ]
     },
     "execution_count": 1,
     "metadata": {},
     "output_type": "execute_result"
    }
   ],
   "source": [
    "lst = list(range(4))\n",
    "lst"
   ]
  },
  {
   "cell_type": "code",
   "execution_count": 4,
   "metadata": {},
   "outputs": [
    {
     "data": {
      "text/plain": [
       "[2, 3]"
      ]
     },
     "execution_count": 4,
     "metadata": {},
     "output_type": "execute_result"
    }
   ],
   "source": [
    "lst[2:]"
   ]
  },
  {
   "cell_type": "code",
   "execution_count": 21,
   "metadata": {},
   "outputs": [
    {
     "data": {
      "text/plain": [
       "['200']"
      ]
     },
     "execution_count": 21,
     "metadata": {},
     "output_type": "execute_result"
    }
   ],
   "source": [
    "filename= 'data\\\\jennawk5data\\\\20220201T010740_200-100-true-200-10000-200-iperf.csv'\n",
    "run_labels = filename.split('_')[-1].split('-')[:-1]\n",
    "temp_label_str = '-'.join(run_labels) \n",
    "run_labels[5:]\n",
    "    "
   ]
  },
  {
   "cell_type": "code",
   "execution_count": 45,
   "metadata": {},
   "outputs": [
    {
     "data": {
      "text/plain": [
       "array(['drop', nan, 'drop;drop', 'drop;drop;drop', 'drop;switch'],\n",
       "      dtype=object)"
      ]
     },
     "execution_count": 45,
     "metadata": {},
     "output_type": "execute_result"
    }
   ],
   "source": [
    "d = readfilerun_simple(filename, 'data\\\\jennawk5data')\n",
    "d['event'].unique()"
   ]
  },
  {
   "cell_type": "code",
   "execution_count": 46,
   "metadata": {},
   "outputs": [
    {
     "data": {
      "text/plain": [
       "200"
      ]
     },
     "execution_count": 46,
     "metadata": {},
     "output_type": "execute_result"
    }
   ],
   "source": [
    "d[d['event'].str.contains('switch') == True].index[0]"
   ]
  },
  {
   "cell_type": "code",
   "execution_count": 53,
   "metadata": {},
   "outputs": [
    {
     "data": {
      "text/plain": [
       "0      False\n",
       "1      False\n",
       "2      False\n",
       "4      False\n",
       "5      False\n",
       "       ...  \n",
       "303     True\n",
       "304     True\n",
       "305     True\n",
       "306     True\n",
       "307     True\n",
       "Name: event, Length: 302, dtype: bool"
      ]
     },
     "execution_count": 53,
     "metadata": {},
     "output_type": "execute_result"
    }
   ],
   "source": [
    "after_switch = d['event'].str.contains('switch').replace(False, np.nan).ffill().fillna(False)\n",
    "d['loss'][after_switch] = d['later_loss']\n",
    "d['latency'][after_switch] = d['later_latency']"
   ]
  },
  {
   "cell_type": "code",
   "execution_count": 55,
   "metadata": {},
   "outputs": [
    {
     "data": {
      "text/plain": [
       "<AxesSubplot:>"
      ]
     },
     "execution_count": 55,
     "metadata": {},
     "output_type": "execute_result"
    },
    {
     "data": {
      "image/png": "[encoded data removed]",
      "text/plain": [
       "<Figure size 432x288 with 1 Axes>"
      ]
     },
     "metadata": {
      "needs_background": "light"
     },
     "output_type": "display_data"
    }
   ],
   "source": [
    "d['loss'][is_switch] = d['later_loss']\n",
    "d['loss'].plot()"
   ]
  },
  {
   "cell_type": "markdown",
   "metadata": {},
   "source": [
    "classification problem\" los function of minimizing number of false positives while still figuring out the actual latency switch"
   ]
  }
 ],
 "metadata": {
  "interpreter": {
   "hash": "3efa28d850846299363cee4a1b6e6d22aa7c891c2d9d9a35ede505877a2f2f8b"
  },
  "kernelspec": {
   "display_name": "Python 3.7.10 64-bit ('sklearn': conda)",
   "language": "python",
   "name": "python3"
  },
  "language_info": {
   "codemirror_mode": {
    "name": "ipython",
    "version": 3
   },
   "file_extension": ".py",
   "mimetype": "text/x-python",
   "name": "python",
   "nbconvert_exporter": "python",
   "pygments_lexer": "ipython3",
   "version": "3.7.10"
  },
  "orig_nbformat": 4
 },
 "nbformat": 4,
 "nbformat_minor": 2
}
