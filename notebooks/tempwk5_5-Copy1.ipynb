{
 "cells": [
  {
   "cell_type": "code",
   "execution_count": 1,
   "id": "4eb17fc7",
   "metadata": {},
   "outputs": [],
   "source": [
    "import numpy as np\n",
    "import json\n",
    "import sys\n",
    "import pandas as pd\n",
    "import os\n",
    "import glob\n",
    "import re\n",
    "import time \n",
    "import matplotlib.pyplot as plt\n",
    "import seaborn as sns\n",
    "from os import listdir\n",
    "from sklearn.naive_bayes import GaussianNB\n",
    "from sklearn.svm import SVC\n",
    "from sklearn.datasets import load_digits\n",
    "from sklearn.model_selection import learning_curve\n",
    "from sklearn.model_selection import ShuffleSplit\n",
    "from sklearn.model_selection import train_test_split\n",
    "from sklearn.decomposition import PCA\n",
    "from sklearn.tree import DecisionTreeRegressor\n",
    "from sklearn.ensemble import RandomForestRegressor\n",
    "from sklearn.ensemble import ExtraTreesRegressor\n",
    "from sklearn.metrics import mean_squared_error\n",
    "from sklearn.datasets import make_hastie_10_2\n",
    "from sklearn.ensemble import GradientBoostingRegressor\n",
    "import warnings\n",
    "from sklearn.model_selection import train_test_split\n",
    "from sklearn.decomposition import PCA\n",
    "from sklearn.linear_model import LogisticRegression\n",
    "from sklearn.pipeline import Pipeline\n",
    "from sklearn.model_selection import GridSearchCV\n",
    "from sklearn.preprocessing import StandardScaler\n",
    "from sklearn.metrics import make_scorer\n",
    "from sklearn.decomposition import PCA\n",
    "from sklearn.linear_model import LogisticRegression\n",
    "from sklearn.pipeline import Pipeline\n",
    "from sklearn.model_selection import GridSearchCV\n",
    "from sklearn.preprocessing import StandardScaler\n",
    "from sklearn.metrics import make_scorer\n",
    "\n",
    "warnings.filterwarnings(\"ignore\")"
   ]
  },
  {
   "cell_type": "code",
   "execution_count": 2,
   "id": "4dbd6c42",
   "metadata": {},
   "outputs": [],
   "source": [
    "sys.path.insert(0, 'src')\n",
    "from helper import *\n",
    "from eda import *\n",
    "from train import *\n",
    "from etl import *\n",
    "\n",
    "%load_ext autoreload\n",
    "\n",
    "%autoreload 2"
   ]
  },
  {
   "cell_type": "markdown",
   "id": "48801d7b",
   "metadata": {},
   "source": [
    "#### main"
   ]
  },
  {
   "cell_type": "code",
   "execution_count": 3,
   "id": "cc580300",
   "metadata": {},
   "outputs": [],
   "source": [
    "def main(targets):\n",
    "\n",
    "    transform_config = json.load(open('config/transform.json'))\n",
    "    eda_config = json.load(open('config/eda.json'))\n",
    "    all_config = json.load(open(\"config/all.json\"))\n",
    "\n",
    "    test_unseen = 'unseen'\n",
    "    test_seen = 'seen'\n",
    "    \n",
    "    cond1 = True\n",
    "    cond2 = False\n",
    "\n",
    "    if 'data' in targets:\n",
    "        \"\"\"generating feat from unseen and seen data\"\"\"\n",
    "#         readfilerun('data/raw/train_r', 'data/temp/tempdata_r') # TODO uncomment\n",
    "#         gen(test_seen, 'tempdata_r', **transform_config)\n",
    "#         readfilerun('data/raw/train_c', 'data/temp/tempdata_c')\n",
    "#         gen(test_unseen, 'tempdata_c', **transform_config)\n",
    "\n",
    "    if 'eda' in targets:  \n",
    "        # readfiledrun and gen for seen data, refer to data target\n",
    "        print('plotting seen data')\n",
    "        main_eda(test_seen, [200, 300], **eda_config)\n",
    "        print('plotting un seen data')\n",
    "        main_eda(test_unseen, [200, 300], **eda_config)\n",
    "        print(\"EDA saved to outputs/eda/ folder\")\n",
    "\n",
    "    if 'train' in targets:\n",
    "        \"trains tests in this target\"\n",
    "        # readfiledrun and gen for seen data, refer to data target\n",
    "                \n",
    "        comb1 = getAllCombinations(1)\n",
    "        comb2 = getAllCombinations(2)\n",
    "        \n",
    "        print(\"Testing on seen data: \")\n",
    "        test_mse(test_seen, comb1, comb2)\n",
    "        best_performance(test_seen)\n",
    "        \n",
    "    # MAKE FEATURE IMPORTANCE A TARGET??\n",
    "                        \n",
    "    if \"inference\" in targets: \n",
    "        # readfiledrun and gen for unseen data, refer to data target\n",
    "        \n",
    "        comb1 = getAllCombinations(1)\n",
    "        comb2 = getAllCombinations(2)\n",
    "        \n",
    "        print(\"Testing on unseen data: \")\n",
    "        test_mse(test_unseen, comb1, comb2)\n",
    "        best_performance(test_unseen)\n",
    "            \n",
    "    if \"test\" in targets: \n",
    "        \"\"\" runs all targets on sample data\"\"\"\n",
    "        print('tba')\n",
    "        # readfilerun for seen an unseen data\n",
    "       \n",
    "        #  main_eda(test_seen, **eda_config)\n",
    "#          print(\"EDA saved to outputs/eda/ folder\")\n",
    "        \n",
    "#         comb1 = getAllCombinations(1)\n",
    "#         comb2 = getAllCombinations(2)\n",
    "        \n",
    "#         print(\"Testing on seen data: \")\n",
    "#         test_mse(test_seen, comb1, comb2)\n",
    "#         best_performance(test_seen)\n",
    "        \n",
    "#         print(\"Testing on unseen data: \")\n",
    "#         test_mse(test_unseen, comb1, comb2)\n",
    "#         best_performance(test_unseen)\n",
    "        \n",
    "    if 'all' in targets: \n",
    "        # refer to test target\n",
    "        print('tba')\n",
    "        \n",
    "# if __name__ == '__main__':\n",
    "\n",
    "#     targets = sys.argv[1:]\n",
    "#     main(targets)"
   ]
  },
  {
   "cell_type": "code",
   "execution_count": 4,
   "id": "f3a82d82",
   "metadata": {},
   "outputs": [],
   "source": [
    "targets = ['data', 'eda', 'train', 'inference', 'test', 'all']"
   ]
  },
  {
   "cell_type": "raw",
   "id": "66dfaaeb",
   "metadata": {},
   "source": [
    "s1 = time.time()\n",
    "main(targets[2])\n",
    "s2 = time.time()"
   ]
  },
  {
   "cell_type": "raw",
   "id": "41f5c9a9",
   "metadata": {},
   "source": [
    "minutes = (s2 - s1)/60\n",
    "print(minutes)"
   ]
  },
  {
   "cell_type": "markdown",
   "id": "159e9c33",
   "metadata": {},
   "source": [
    "git add . |\n",
    "git commit -m \"message\" |\n",
    "git pull origin main  (ctrl o or x?)|\n",
    "git push |\n",
    "user, token"
   ]
  },
  {
   "cell_type": "code",
   "execution_count": null,
   "id": "441c6913",
   "metadata": {},
   "outputs": [],
   "source": []
  },
  {
   "cell_type": "code",
   "execution_count": 33,
   "id": "a8f8068e",
   "metadata": {},
   "outputs": [
    {
     "name": "stdout",
     "output_type": "stream",
     "text": [
      "mse: 0.0, r2: 1.0\n"
     ]
    },
    {
     "data": {
      "text/plain": [
       "2->1Bytes          0.153140\n",
       "2->1Pkts           0.144066\n",
       "max_tdelta         0.096657\n",
       "total_pkts         0.096475\n",
       "number_ms          0.092771\n",
       "total_bytes        0.078545\n",
       "pkt sum            0.071445\n",
       "total_pkt_sizes    0.070366\n",
       "mean_tdelta        0.045447\n",
       "time_spread        0.041740\n",
       "max_bytes          0.028986\n",
       "byte_ratio         0.027308\n",
       "pkt_ratio          0.027258\n",
       "longest_seq        0.025796\n",
       "dtype: float64"
      ]
     },
     "execution_count": 33,
     "metadata": {},
     "output_type": "execute_result"
    }
   ],
   "source": [
    "label_col = 'loss'\n",
    "\n",
    "dft = pd.read_csv(os.path.join(os.getcwd() , 'data','temp', \"tempdata_c\", 'labeled_200-1000-true-200-600.csv'))\n",
    "\n",
    "df_colt = genfeat(dft)\n",
    "f_dft = better_agg(df_colt)\n",
    "\n",
    "indexcol = ['total_bytes','max_bytes','2->1Bytes','2->1Pkts','total_pkts', 'total_pkts_min', 'total_pkts_max', 'number_ms', 'pkt_ratio','time_spread', 'time_spread_min','time_spread_max','pkt sum','longest_seq', 'longest_seq_min', 'longest_seq_max','total_pkt_sizes','byte_ratio', 'mean_tdelta', 'max_tdelta']\n",
    "#indexcol = f_dft.columns\n",
    "\n",
    "len(indexcol)\n",
    "\n",
    "X_train, X_test, y_train, y_test = train_test_split(\n",
    "    f_dft[[x for x in indexcol if x in f_dft.columns]], f_dft[label_col])\n",
    "# print(X_train.shape, X_test.shape, y_train.shape, y_test.shape)\n",
    "etree = ExtraTreesRegressor(n_estimators=400, n_jobs=4)\n",
    "etreeft = etree.fit(X_train,y_train)\n",
    "\n",
    "y_pred3 = etree.predict(X_test)\n",
    "acc3= mean_squared_error(y_test, y_pred3)\n",
    "\n",
    "\n",
    "print(f'mse: {acc3}, r2: {etree.score(X_test, y_test)}')\n",
    "# feat_imp = pd.Series(index=[x for x in indexcol if x in f_dft.columns], \n",
    "#           data=etree.feature_importances_).sort_values(ascending=False)\n",
    "feat_imp"
   ]
  },
  {
   "cell_type": "code",
   "execution_count": 34,
   "id": "66c25aa9",
   "metadata": {},
   "outputs": [],
   "source": [
    "roll_df = pd.DataFrame(y_pred3).rename(columns = {0:'preds'})#.rolling(2).mean() # roling over past 20 seconds"
   ]
  },
  {
   "cell_type": "code",
   "execution_count": 38,
   "id": "3bb69d96",
   "metadata": {},
   "outputs": [],
   "source": [
    "roll_df['rollingmean'] = roll_df['preds'].rolling(2).mean()"
   ]
  },
  {
   "cell_type": "code",
   "execution_count": 41,
   "id": "28ddcf57",
   "metadata": {},
   "outputs": [
    {
     "data": {
      "text/plain": [
       "array([  nan, 1000.])"
      ]
     },
     "execution_count": 41,
     "metadata": {},
     "output_type": "execute_result"
    }
   ],
   "source": [
    "roll_df['rollingmean'].unique()"
   ]
  },
  {
   "cell_type": "code",
   "execution_count": 40,
   "id": "6c30bea1",
   "metadata": {},
   "outputs": [
    {
     "data": {
      "text/plain": [
       "<AxesSubplot:>"
      ]
     },
     "execution_count": 40,
     "metadata": {},
     "output_type": "execute_result"
    },
    {
     "data": {
      "image/png": "[encoded data removed]",
      "text/plain": [
       "<Figure size 2160x720 with 1 Axes>"
      ]
     },
     "metadata": {
      "needs_background": "light"
     },
     "output_type": "display_data"
    }
   ],
   "source": [
    "roll_df.plot(figsize=(30, 10))"
   ]
  },
  {
   "cell_type": "raw",
   "id": "155059ca",
   "metadata": {},
   "source": [
    "ct = pd.read_csv('outputs/combined_transform.csv').rename(\n",
    "    {'mean_tdelta.1': 'mean_tdelta_amin', 'mean_tdelta.2':'mean_tdelta_amax'}, \n",
    "    axis=1)\n",
    "ct.to_csv('outputs/combined_transform.csv')"
   ]
  },
  {
   "cell_type": "raw",
   "id": "79d30554",
   "metadata": {},
   "source": [
    "MAKING pipeline: , tst on data with change in loss later\n",
    "    \n",
    "    comb[some index]\n",
    "    \n",
    "    dt() - untrained\n",
    "    \n",
    "    dt( comb) - train, or grid search on it\n",
    "    \n",
    "    et() - \n",
    "    \n",
    "    plot them on top of eachother\n",
    "    \n",
    "    test(single dataset - aggregated over subset )# overserved or not\n",
    "    \n",
    "    plot the bytes, loss records (loss log), and expanded model predictions"
   ]
  },
  {
   "cell_type": "raw",
   "id": "electric-graph",
   "metadata": {},
   "source": [
    "path = os.path.join(os.getcwd() , \"outputs\")"
   ]
  },
  {
   "cell_type": "raw",
   "id": "economic-juvenile",
   "metadata": {},
   "source": [
    "comb1 = getAllCombinations(1)\n",
    "comb2 = getAllCombinations(2)"
   ]
  },
  {
   "cell_type": "raw",
   "id": "animated-fence",
   "metadata": {},
   "source": [
    "# work out later\n",
    "#fname = 'labeled-from-data2_100-10000-true-100-10000.csv'\n",
    "genviz('seen', fname, 8) # use readfilerun_simple instead\n",
    "# apply gen feat and agg10 on the merged losslog data file\n",
    "\n",
    "newfname = 'combined_t.csv'\n",
    "s_t = pd.read_csv(os.path.join(os.getcwd() , \"outputs\", newfname))"
   ]
  },
  {
   "cell_type": "raw",
   "id": "meaning-vacuum",
   "metadata": {},
   "source": [
    "# expanding pipeline for two predictors? mainly loss is impt, latency less so\n",
    "X, y = s_t[comb1[4]], s_t['loss']\n",
    "X_train, X_test, y_train, y_test = train_test_split(X, y,\n",
    "                                                   random_state=0)\n",
    "pipe = Pipeline([('scaler', StandardScaler()), ('svc', GradientBoostingRegressor())])\n",
    " # The pipeline can be used as any other estimator\n",
    "# and avoids leaking the test set into the train set\n",
    "\n",
    "\n",
    "clf = GridSearchCV(GradientBoostingClassifier(), parameters,scoring=scoring,refit=False,cv=2, n_jobs=-1)\n",
    "\n",
    "\n",
    "pipe.fit(X_train, y_train)\n",
    "p = pipe.predict(X_test)\n",
    "mean_squared_error(y_test, p)\n",
    "#pipe.score(X_test, y_test)"
   ]
  }
 ],
 "metadata": {
  "kernelspec": {
   "display_name": "Python 3 (ipykernel)",
   "language": "python",
   "name": "python3"
  },
  "language_info": {
   "codemirror_mode": {
    "name": "ipython",
    "version": 3
   },
   "file_extension": ".py",
   "mimetype": "text/x-python",
   "name": "python",
   "nbconvert_exporter": "python",
   "pygments_lexer": "ipython3",
   "version": "3.9.5"
  }
 },
 "nbformat": 4,
 "nbformat_minor": 5
}
